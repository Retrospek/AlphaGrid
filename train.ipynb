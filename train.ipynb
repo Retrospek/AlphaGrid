{
 "cells": [
  {
   "cell_type": "markdown",
   "id": "a526f6dc",
   "metadata": {},
   "source": [
    "# **Edge-Centric Model Training**"
   ]
  },
  {
   "cell_type": "code",
   "execution_count": 1,
   "id": "76d31078",
   "metadata": {},
   "outputs": [
    {
     "name": "stdout",
     "output_type": "stream",
     "text": [
      "torch:               2.7.1+cu118\n",
      "device:              cuda\n",
      "numpy:               2.2.4\n",
      "matplotlib:          3.10.3\n",
      "logger (custom):     loaded\n"
     ]
    }
   ],
   "source": [
    "import torch\n",
    "import torch.nn as nn\n",
    "import torch.optim as optim\n",
    "import torch.nn.functional as F\n",
    "from torch.utils.data import Dataset, DataLoader\n",
    "print(f\"{'torch:':<20} {torch.__version__}\")\n",
    "device = \"cuda\" if torch.cuda.is_available() else \"cpu\"\n",
    "print(f\"{'device:':<20} {device}\")\n",
    "\n",
    "import numpy as np\n",
    "import math\n",
    "import random\n",
    "print(f\"{'numpy:':<20} {np.__version__}\")\n",
    "\n",
    "import matplotlib.pyplot as plt\n",
    "print(f\"{'matplotlib:':<20} {plt.matplotlib.__version__}\")\n",
    "\n",
    "from tqdm import tqdm\n",
    "\n",
    "import logger\n",
    "print(f\"{'logger (custom):':<20} loaded\")\n",
    "\n",
    "from Models.Architectures.edgeGNN import EdgeCentricNetwork\n",
    "from DataManagement.data import financialDataset"
   ]
  },
  {
   "cell_type": "code",
   "execution_count": 2,
   "id": "7bedc91b",
   "metadata": {},
   "outputs": [
    {
     "name": "stdout",
     "output_type": "stream",
     "text": [
      "Downloading Sector-Based Data...\n"
     ]
    },
    {
     "name": "stderr",
     "output_type": "stream",
     "text": [
      "c:\\Users\\lordw\\OneDrive\\Documents\\ML\\MLprojects\\AlphaGrid\\DataManagement\\data_load.py:38: FutureWarning: YF.download() has changed argument auto_adjust default to True\n",
      "  sector_data = yf.download(tickers=list(sector_mapping.keys()), start=start_date, end=end_date)\n",
      "[*********************100%***********************]  11 of 11 completed\n"
     ]
    },
    {
     "name": "stdout",
     "output_type": "stream",
     "text": [
      "Downloaded yfinance sector data for =:\n",
      "-> Keys: ['XLK', 'XLF', 'XLE', 'XLV', 'XLI', 'XLP', 'XLY', 'XLU', 'XLB', 'XLRE', 'XLC']\n",
      "-> Values: listdict_values(['Technology', 'Financials', 'Energy', 'Health Care', 'Industrials', 'Consumer Staples', 'Consumer Discretionary', 'Utilities', 'Materials', 'Real Estate', 'Communication Services'])\n",
      "Flattening Column Labels to Remove Tuple-Based Column Structure... & Shifting Date into Column\n",
      "* Done Preprocessing and Organizing Data *\n",
      "\n",
      "=== Checking Download Uniformity ===\n",
      "XLK: 1254 rows with data\n",
      "XLF: 1254 rows with data\n",
      "XLE: 1254 rows with data\n",
      "XLV: 1254 rows with data\n",
      "XLI: 1254 rows with data\n",
      "XLP: 1254 rows with data\n",
      "XLY: 1254 rows with data\n",
      "XLU: 1254 rows with data\n",
      "XLB: 1254 rows with data\n",
      "XLRE: 1254 rows with data\n",
      "XLC: 1254 rows with data\n",
      "✓ All sectors have same number of dates\n",
      "Common dates: 1254\n",
      "XLK len: 1254\n",
      "XLF len: 1254\n",
      "XLE len: 1254\n",
      "XLV len: 1254\n",
      "XLI len: 1254\n",
      "XLP len: 1254\n",
      "XLY len: 1254\n",
      "XLU len: 1254\n",
      "XLB len: 1254\n",
      "XLRE len: 1254\n",
      "XLC len: 1254\n",
      "XLK data length: 1223\n",
      "XLF data length: 1223\n",
      "XLE data length: 1223\n",
      "XLV data length: 1223\n",
      "XLI data length: 1223\n",
      "XLP data length: 1223\n",
      "XLY data length: 1223\n",
      "XLU data length: 1223\n",
      "XLB data length: 1223\n",
      "XLRE data length: 1223\n",
      "XLC data length: 1223\n",
      "XLK len: 1223\n",
      "XLF len: 1223\n",
      "XLE len: 1223\n",
      "XLV len: 1223\n",
      "XLI len: 1223\n",
      "XLP len: 1223\n",
      "XLY len: 1223\n",
      "XLU len: 1223\n",
      "XLB len: 1223\n",
      "XLRE len: 1223\n",
      "XLC len: 1223\n",
      "Any NaNs in features? tensor(False)\n",
      "Any Infs in features? tensor(False)\n"
     ]
    },
    {
     "name": "stderr",
     "output_type": "stream",
     "text": [
      "c:\\Users\\lordw\\OneDrive\\Documents\\ML\\MLprojects\\AlphaGrid\\DataManagement\\data.py:74: UserWarning: Creating a tensor from a list of numpy.ndarrays is extremely slow. Please consider converting the list to a single numpy.ndarray with numpy.array() before converting to a tensor. (Triggered internally at C:\\actions-runner\\_work\\pytorch\\pytorch\\pytorch\\torch\\csrc\\utils\\tensor_new.cpp:257.)\n",
      "  feature_data = torch.tensor(data=feature_data, dtype=torch.float32).transpose(0, 1)\n"
     ]
    }
   ],
   "source": [
    "dataset = financialDataset()"
   ]
  },
  {
   "cell_type": "code",
   "execution_count": 3,
   "id": "7a1bca9f",
   "metadata": {},
   "outputs": [
    {
     "name": "stdout",
     "output_type": "stream",
     "text": [
      "Batch Feature Dim: torch.Size([64, 11, 89])\n",
      "Batch Target Dim: torch.Size([64, 11])\n",
      "Train Dataset Length: 978\n",
      "Test Dataset Length: 245\n"
     ]
    }
   ],
   "source": [
    "num_samples = len(dataset)\n",
    "\n",
    "train_split = 0.8\n",
    "test_split = 0.2\n",
    "\n",
    "train_size = int(train_split * num_samples)\n",
    "test_size = num_samples - train_size\n",
    "\n",
    "train_dataset = torch.utils.data.Subset(dataset, list(range(train_size)))\n",
    "test_dataset = torch.utils.data.Subset(dataset, list(range(train_size, num_samples)))\n",
    "\n",
    "train_loader = DataLoader(train_dataset, batch_size=64, shuffle=False)\n",
    "test_loader = DataLoader(test_dataset, batch_size=64, shuffle=False)\n",
    "\n",
    "sample_batch = next(iter(train_loader))\n",
    "print(f\"Batch Feature Dim: {sample_batch[0].shape}\")\n",
    "print(f\"Batch Target Dim: {sample_batch[1].shape}\")\n",
    "print(f\"Train Dataset Length: {len(train_dataset)}\")\n",
    "print(f\"Test Dataset Length: {len(test_dataset)}\")"
   ]
  },
  {
   "cell_type": "code",
   "execution_count": 4,
   "id": "f2675d98",
   "metadata": {},
   "outputs": [
    {
     "data": {
      "text/plain": [
       "EdgeCentricNetwork(\n",
       "  (edge_updater): Sequential(\n",
       "    (0): Linear(in_features=178, out_features=512, bias=True)\n",
       "    (1): ReLU()\n",
       "    (2): Linear(in_features=512, out_features=512, bias=True)\n",
       "    (3): ReLU()\n",
       "    (4): Linear(in_features=512, out_features=256, bias=True)\n",
       "    (5): ReLU()\n",
       "    (6): Linear(in_features=256, out_features=128, bias=True)\n",
       "    (7): ReLU()\n",
       "    (8): Linear(in_features=128, out_features=10, bias=True)\n",
       "  )\n",
       "  (regression): Sequential(\n",
       "    (0): Linear(in_features=110, out_features=512, bias=True)\n",
       "    (1): ReLU()\n",
       "    (2): Linear(in_features=512, out_features=256, bias=True)\n",
       "    (3): ReLU()\n",
       "    (4): Linear(in_features=256, out_features=128, bias=True)\n",
       "    (5): ReLU()\n",
       "    (6): Linear(in_features=128, out_features=64, bias=True)\n",
       "    (7): ReLU()\n",
       "    (8): Linear(in_features=64, out_features=64, bias=True)\n",
       "    (9): ReLU()\n",
       "    (10): Linear(in_features=64, out_features=1, bias=True)\n",
       "  )\n",
       ")"
      ]
     },
     "execution_count": 4,
     "metadata": {},
     "output_type": "execute_result"
    }
   ],
   "source": [
    "model = EdgeCentricNetwork(num_nodes=dataset.num_sectors, directed=True, edge_dim=10, node_dim=dataset.features.shape[2])\n",
    "model.to(device)\n",
    "model"
   ]
  },
  {
   "cell_type": "code",
   "execution_count": null,
   "id": "fc9e0842",
   "metadata": {},
   "outputs": [],
   "source": [
    "LR = 3.5e-5\n",
    "optimizer = optim.Adam(params=model.parameters(), lr=LR)\n",
    "criterion = nn.SmoothL1Loss()"
   ]
  },
  {
   "cell_type": "code",
   "execution_count": null,
   "id": "2bc82729",
   "metadata": {},
   "outputs": [
    {
     "name": "stderr",
     "output_type": "stream",
     "text": [
      "Epoch [1/1250]:   0%|          | 0/16 [00:01<?, ?it/s, loss=499]    "
     ]
    },
    {
     "name": "stdout",
     "output_type": "stream",
     "text": [
      "Epoch [1/1250] Loss: 1102.301201\n"
     ]
    },
    {
     "name": "stderr",
     "output_type": "stream",
     "text": [
      "Epoch [21/1250]:   0%|          | 0/16 [00:00<?, ?it/s, loss=21.5]"
     ]
    },
    {
     "name": "stdout",
     "output_type": "stream",
     "text": [
      "Epoch [21/1250] Loss: 37.932368\n"
     ]
    },
    {
     "name": "stderr",
     "output_type": "stream",
     "text": [
      "Epoch [41/1250]:   0%|          | 0/16 [00:00<?, ?it/s, loss=18.3]"
     ]
    },
    {
     "name": "stdout",
     "output_type": "stream",
     "text": [
      "Epoch [41/1250] Loss: 24.379467\n"
     ]
    },
    {
     "name": "stderr",
     "output_type": "stream",
     "text": [
      "Epoch [61/1250]:   0%|          | 0/16 [00:00<?, ?it/s, loss=27.1]"
     ]
    },
    {
     "name": "stdout",
     "output_type": "stream",
     "text": [
      "Epoch [61/1250] Loss: 22.275817\n"
     ]
    },
    {
     "name": "stderr",
     "output_type": "stream",
     "text": [
      "Epoch [81/1250]:   0%|          | 0/16 [00:00<?, ?it/s, loss=28.9]"
     ]
    },
    {
     "name": "stdout",
     "output_type": "stream",
     "text": [
      "Epoch [81/1250] Loss: 29.309595\n"
     ]
    },
    {
     "name": "stderr",
     "output_type": "stream",
     "text": [
      "Epoch [101/1250]:   0%|          | 0/16 [00:00<?, ?it/s, loss=22.8]"
     ]
    },
    {
     "name": "stdout",
     "output_type": "stream",
     "text": [
      "Epoch [101/1250] Loss: 18.691309\n"
     ]
    },
    {
     "name": "stderr",
     "output_type": "stream",
     "text": [
      "Epoch [121/1250]:   0%|          | 0/16 [00:00<?, ?it/s, loss=8.49]"
     ]
    },
    {
     "name": "stdout",
     "output_type": "stream",
     "text": [
      "Epoch [121/1250] Loss: 18.177829\n"
     ]
    },
    {
     "name": "stderr",
     "output_type": "stream",
     "text": [
      "Epoch [141/1250]:   0%|          | 0/16 [00:00<?, ?it/s, loss=24.1]"
     ]
    },
    {
     "name": "stdout",
     "output_type": "stream",
     "text": [
      "Epoch [141/1250] Loss: 26.126527\n"
     ]
    },
    {
     "name": "stderr",
     "output_type": "stream",
     "text": [
      "Epoch [161/1250]:   0%|          | 0/16 [00:00<?, ?it/s, loss=6.23]"
     ]
    },
    {
     "name": "stdout",
     "output_type": "stream",
     "text": [
      "Epoch [161/1250] Loss: 10.219397\n"
     ]
    },
    {
     "name": "stderr",
     "output_type": "stream",
     "text": [
      "Epoch [181/1250]:   0%|          | 0/16 [00:00<?, ?it/s, loss=6.86]"
     ]
    },
    {
     "name": "stdout",
     "output_type": "stream",
     "text": [
      "Epoch [181/1250] Loss: 18.034371\n"
     ]
    },
    {
     "name": "stderr",
     "output_type": "stream",
     "text": [
      "Epoch [201/1250]:   0%|          | 0/16 [00:00<?, ?it/s, loss=3.09]"
     ]
    },
    {
     "name": "stdout",
     "output_type": "stream",
     "text": [
      "Epoch [201/1250] Loss: 4.790541\n"
     ]
    },
    {
     "name": "stderr",
     "output_type": "stream",
     "text": [
      "Epoch [221/1250]:   0%|          | 0/16 [00:00<?, ?it/s, loss=34.3]"
     ]
    },
    {
     "name": "stdout",
     "output_type": "stream",
     "text": [
      "Epoch [221/1250] Loss: 40.775298\n"
     ]
    },
    {
     "name": "stderr",
     "output_type": "stream",
     "text": [
      "Epoch [241/1250]:   0%|          | 0/16 [00:00<?, ?it/s, loss=13.1]"
     ]
    },
    {
     "name": "stdout",
     "output_type": "stream",
     "text": [
      "Epoch [241/1250] Loss: 13.042381\n"
     ]
    },
    {
     "name": "stderr",
     "output_type": "stream",
     "text": [
      "Epoch [261/1250]:   0%|          | 0/16 [00:00<?, ?it/s, loss=2.84]"
     ]
    },
    {
     "name": "stdout",
     "output_type": "stream",
     "text": [
      "Epoch [261/1250] Loss: 6.332095\n"
     ]
    },
    {
     "name": "stderr",
     "output_type": "stream",
     "text": [
      "Epoch [281/1250]:   0%|          | 0/16 [00:00<?, ?it/s, loss=4.58]"
     ]
    },
    {
     "name": "stdout",
     "output_type": "stream",
     "text": [
      "Epoch [281/1250] Loss: 7.116824\n"
     ]
    },
    {
     "name": "stderr",
     "output_type": "stream",
     "text": [
      "Epoch [301/1250]:   0%|          | 0/16 [00:00<?, ?it/s, loss=8.68]"
     ]
    },
    {
     "name": "stdout",
     "output_type": "stream",
     "text": [
      "Epoch [301/1250] Loss: 11.934106\n"
     ]
    },
    {
     "name": "stderr",
     "output_type": "stream",
     "text": [
      "Epoch [321/1250]:   0%|          | 0/16 [00:00<?, ?it/s, loss=19]  "
     ]
    },
    {
     "name": "stdout",
     "output_type": "stream",
     "text": [
      "Epoch [321/1250] Loss: 18.316313\n"
     ]
    },
    {
     "name": "stderr",
     "output_type": "stream",
     "text": [
      "Epoch [341/1250]:   0%|          | 0/16 [00:00<?, ?it/s, loss=6.45]"
     ]
    },
    {
     "name": "stdout",
     "output_type": "stream",
     "text": [
      "Epoch [341/1250] Loss: 5.378158\n"
     ]
    },
    {
     "name": "stderr",
     "output_type": "stream",
     "text": [
      "Epoch [361/1250]:   0%|          | 0/16 [00:00<?, ?it/s, loss=3.75]"
     ]
    },
    {
     "name": "stdout",
     "output_type": "stream",
     "text": [
      "Epoch [361/1250] Loss: 4.675727\n"
     ]
    },
    {
     "name": "stderr",
     "output_type": "stream",
     "text": [
      "Epoch [381/1250]:   0%|          | 0/16 [00:00<?, ?it/s, loss=5.58]"
     ]
    },
    {
     "name": "stdout",
     "output_type": "stream",
     "text": [
      "Epoch [381/1250] Loss: 8.286322\n"
     ]
    },
    {
     "name": "stderr",
     "output_type": "stream",
     "text": [
      "Epoch [401/1250]:   0%|          | 0/16 [00:00<?, ?it/s, loss=30.8]"
     ]
    },
    {
     "name": "stdout",
     "output_type": "stream",
     "text": [
      "Epoch [401/1250] Loss: 23.079435\n"
     ]
    },
    {
     "name": "stderr",
     "output_type": "stream",
     "text": [
      "Epoch [421/1250]:   0%|          | 0/16 [00:00<?, ?it/s, loss=1.35]"
     ]
    },
    {
     "name": "stdout",
     "output_type": "stream",
     "text": [
      "Epoch [421/1250] Loss: 2.761317\n"
     ]
    },
    {
     "name": "stderr",
     "output_type": "stream",
     "text": [
      "Epoch [441/1250]:   0%|          | 0/16 [00:00<?, ?it/s, loss=3.43] "
     ]
    },
    {
     "name": "stdout",
     "output_type": "stream",
     "text": [
      "Epoch [441/1250] Loss: 3.241106\n"
     ]
    },
    {
     "name": "stderr",
     "output_type": "stream",
     "text": [
      "Epoch [461/1250]:   0%|          | 0/16 [00:00<?, ?it/s, loss=43.8]  "
     ]
    },
    {
     "name": "stdout",
     "output_type": "stream",
     "text": [
      "Epoch [461/1250] Loss: 63.597090\n"
     ]
    },
    {
     "name": "stderr",
     "output_type": "stream",
     "text": [
      "Epoch [481/1250]:   0%|          | 0/16 [00:00<?, ?it/s, loss=2.98]"
     ]
    },
    {
     "name": "stdout",
     "output_type": "stream",
     "text": [
      "Epoch [481/1250] Loss: 2.326826\n"
     ]
    },
    {
     "name": "stderr",
     "output_type": "stream",
     "text": [
      "Epoch [501/1250]:   0%|          | 0/16 [00:00<?, ?it/s, loss=2.9]  "
     ]
    },
    {
     "name": "stdout",
     "output_type": "stream",
     "text": [
      "Epoch [501/1250] Loss: 2.579076\n"
     ]
    },
    {
     "name": "stderr",
     "output_type": "stream",
     "text": [
      "Epoch [521/1250]:   0%|          | 0/16 [00:00<?, ?it/s, loss=5.48] "
     ]
    },
    {
     "name": "stdout",
     "output_type": "stream",
     "text": [
      "Epoch [521/1250] Loss: 6.734743\n"
     ]
    },
    {
     "name": "stderr",
     "output_type": "stream",
     "text": [
      "Epoch [541/1250]:   0%|          | 0/16 [00:00<?, ?it/s, loss=15.8]"
     ]
    },
    {
     "name": "stdout",
     "output_type": "stream",
     "text": [
      "Epoch [541/1250] Loss: 22.348888\n"
     ]
    },
    {
     "name": "stderr",
     "output_type": "stream",
     "text": [
      "Epoch [561/1250]:   0%|          | 0/16 [00:00<?, ?it/s, loss=0.652]"
     ]
    },
    {
     "name": "stdout",
     "output_type": "stream",
     "text": [
      "Epoch [561/1250] Loss: 1.333401\n"
     ]
    },
    {
     "name": "stderr",
     "output_type": "stream",
     "text": [
      "Epoch [581/1250]:   0%|          | 0/16 [00:00<?, ?it/s, loss=2.56] "
     ]
    },
    {
     "name": "stdout",
     "output_type": "stream",
     "text": [
      "Epoch [581/1250] Loss: 3.956038\n"
     ]
    },
    {
     "name": "stderr",
     "output_type": "stream",
     "text": [
      "Epoch [601/1250]:   0%|          | 0/16 [00:00<?, ?it/s, loss=4.25] "
     ]
    },
    {
     "name": "stdout",
     "output_type": "stream",
     "text": [
      "Epoch [601/1250] Loss: 7.874488\n"
     ]
    },
    {
     "name": "stderr",
     "output_type": "stream",
     "text": [
      "Epoch [621/1250]:   0%|          | 0/16 [00:00<?, ?it/s, loss=1.09] "
     ]
    },
    {
     "name": "stdout",
     "output_type": "stream",
     "text": [
      "Epoch [621/1250] Loss: 2.450845\n"
     ]
    },
    {
     "name": "stderr",
     "output_type": "stream",
     "text": [
      "Epoch [641/1250]:   0%|          | 0/16 [00:00<?, ?it/s, loss=0.165]"
     ]
    },
    {
     "name": "stdout",
     "output_type": "stream",
     "text": [
      "Epoch [641/1250] Loss: 0.424916\n"
     ]
    },
    {
     "name": "stderr",
     "output_type": "stream",
     "text": [
      "Epoch [661/1250]:   0%|          | 0/16 [00:00<?, ?it/s, loss=2.66] "
     ]
    },
    {
     "name": "stdout",
     "output_type": "stream",
     "text": [
      "Epoch [661/1250] Loss: 1.687291\n"
     ]
    },
    {
     "name": "stderr",
     "output_type": "stream",
     "text": [
      "Epoch [681/1250]:   0%|          | 0/16 [00:00<?, ?it/s, loss=2.39] "
     ]
    },
    {
     "name": "stdout",
     "output_type": "stream",
     "text": [
      "Epoch [681/1250] Loss: 3.552301\n"
     ]
    },
    {
     "name": "stderr",
     "output_type": "stream",
     "text": [
      "Epoch [701/1250]:   0%|          | 0/16 [00:00<?, ?it/s, loss=2.57]"
     ]
    },
    {
     "name": "stdout",
     "output_type": "stream",
     "text": [
      "Epoch [701/1250] Loss: 5.129881\n"
     ]
    },
    {
     "name": "stderr",
     "output_type": "stream",
     "text": [
      "Epoch [721/1250]:   0%|          | 0/16 [00:00<?, ?it/s, loss=1.28] "
     ]
    },
    {
     "name": "stdout",
     "output_type": "stream",
     "text": [
      "Epoch [721/1250] Loss: 1.609706\n"
     ]
    },
    {
     "name": "stderr",
     "output_type": "stream",
     "text": [
      "Epoch [741/1250]:   0%|          | 0/16 [00:00<?, ?it/s, loss=0.147] "
     ]
    },
    {
     "name": "stdout",
     "output_type": "stream",
     "text": [
      "Epoch [741/1250] Loss: 0.253732\n"
     ]
    },
    {
     "name": "stderr",
     "output_type": "stream",
     "text": [
      "Epoch [761/1250]:   0%|          | 0/16 [00:00<?, ?it/s, loss=0.143] "
     ]
    },
    {
     "name": "stdout",
     "output_type": "stream",
     "text": [
      "Epoch [761/1250] Loss: 0.262627\n"
     ]
    },
    {
     "name": "stderr",
     "output_type": "stream",
     "text": [
      "Epoch [781/1250]:   0%|          | 0/16 [00:00<?, ?it/s, loss=27.8] "
     ]
    },
    {
     "name": "stdout",
     "output_type": "stream",
     "text": [
      "Epoch [781/1250] Loss: 25.939320\n"
     ]
    },
    {
     "name": "stderr",
     "output_type": "stream",
     "text": [
      "Epoch [801/1250]:   0%|          | 0/16 [00:00<?, ?it/s, loss=5.09]"
     ]
    },
    {
     "name": "stdout",
     "output_type": "stream",
     "text": [
      "Epoch [801/1250] Loss: 5.107725\n"
     ]
    },
    {
     "name": "stderr",
     "output_type": "stream",
     "text": [
      "Epoch [821/1250]:   0%|          | 0/16 [00:00<?, ?it/s, loss=1.81]"
     ]
    },
    {
     "name": "stdout",
     "output_type": "stream",
     "text": [
      "Epoch [821/1250] Loss: 2.041214\n"
     ]
    },
    {
     "name": "stderr",
     "output_type": "stream",
     "text": [
      "Epoch [841/1250]:   0%|          | 0/16 [00:00<?, ?it/s, loss=1.16] "
     ]
    },
    {
     "name": "stdout",
     "output_type": "stream",
     "text": [
      "Epoch [841/1250] Loss: 1.831373\n"
     ]
    },
    {
     "name": "stderr",
     "output_type": "stream",
     "text": [
      "Epoch [861/1250]:   0%|          | 0/16 [00:00<?, ?it/s, loss=1.06] "
     ]
    },
    {
     "name": "stdout",
     "output_type": "stream",
     "text": [
      "Epoch [861/1250] Loss: 1.497140\n"
     ]
    },
    {
     "name": "stderr",
     "output_type": "stream",
     "text": [
      "Epoch [881/1250]:   0%|          | 0/16 [00:00<?, ?it/s, loss=1.91] "
     ]
    },
    {
     "name": "stdout",
     "output_type": "stream",
     "text": [
      "Epoch [881/1250] Loss: 3.756533\n"
     ]
    },
    {
     "name": "stderr",
     "output_type": "stream",
     "text": [
      "Epoch [901/1250]:   0%|          | 0/16 [00:00<?, ?it/s, loss=1.07] "
     ]
    },
    {
     "name": "stdout",
     "output_type": "stream",
     "text": [
      "Epoch [901/1250] Loss: 1.801352\n"
     ]
    },
    {
     "name": "stderr",
     "output_type": "stream",
     "text": [
      "Epoch [921/1250]:   0%|          | 0/16 [00:00<?, ?it/s, loss=0.297]"
     ]
    },
    {
     "name": "stdout",
     "output_type": "stream",
     "text": [
      "Epoch [921/1250] Loss: 0.544978\n"
     ]
    },
    {
     "name": "stderr",
     "output_type": "stream",
     "text": [
      "Epoch [941/1250]:   0%|          | 0/16 [00:00<?, ?it/s, loss=0.947]"
     ]
    },
    {
     "name": "stdout",
     "output_type": "stream",
     "text": [
      "Epoch [941/1250] Loss: 1.228692\n"
     ]
    },
    {
     "name": "stderr",
     "output_type": "stream",
     "text": [
      "Epoch [961/1250]:   0%|          | 0/16 [00:00<?, ?it/s, loss=0.326]"
     ]
    },
    {
     "name": "stdout",
     "output_type": "stream",
     "text": [
      "Epoch [961/1250] Loss: 0.610495\n"
     ]
    },
    {
     "name": "stderr",
     "output_type": "stream",
     "text": [
      "Epoch [981/1250]:   0%|          | 0/16 [00:00<?, ?it/s, loss=1.2]  "
     ]
    },
    {
     "name": "stdout",
     "output_type": "stream",
     "text": [
      "Epoch [981/1250] Loss: 2.821376\n"
     ]
    },
    {
     "name": "stderr",
     "output_type": "stream",
     "text": [
      "Epoch [1001/1250]:   0%|          | 0/16 [00:00<?, ?it/s, loss=0.38] "
     ]
    },
    {
     "name": "stdout",
     "output_type": "stream",
     "text": [
      "Epoch [1001/1250] Loss: 0.519450\n"
     ]
    },
    {
     "name": "stderr",
     "output_type": "stream",
     "text": [
      "Epoch [1021/1250]:   0%|          | 0/16 [00:00<?, ?it/s, loss=0.763]"
     ]
    },
    {
     "name": "stdout",
     "output_type": "stream",
     "text": [
      "Epoch [1021/1250] Loss: 0.778168\n"
     ]
    },
    {
     "name": "stderr",
     "output_type": "stream",
     "text": [
      "Epoch [1041/1250]:   0%|          | 0/16 [00:00<?, ?it/s, loss=0.545]"
     ]
    },
    {
     "name": "stdout",
     "output_type": "stream",
     "text": [
      "Epoch [1041/1250] Loss: 1.474497\n"
     ]
    },
    {
     "name": "stderr",
     "output_type": "stream",
     "text": [
      "Epoch [1061/1250]:   0%|          | 0/16 [00:00<?, ?it/s, loss=0.242]"
     ]
    },
    {
     "name": "stdout",
     "output_type": "stream",
     "text": [
      "Epoch [1061/1250] Loss: 0.364292\n"
     ]
    },
    {
     "name": "stderr",
     "output_type": "stream",
     "text": [
      "Epoch [1081/1250]:   0%|          | 0/16 [00:00<?, ?it/s, loss=0.155]"
     ]
    },
    {
     "name": "stdout",
     "output_type": "stream",
     "text": [
      "Epoch [1081/1250] Loss: 0.268740\n"
     ]
    },
    {
     "name": "stderr",
     "output_type": "stream",
     "text": [
      "Epoch [1101/1250]:   0%|          | 0/16 [00:00<?, ?it/s, loss=0.217] "
     ]
    },
    {
     "name": "stdout",
     "output_type": "stream",
     "text": [
      "Epoch [1101/1250] Loss: 0.494654\n"
     ]
    },
    {
     "name": "stderr",
     "output_type": "stream",
     "text": [
      "Epoch [1121/1250]:   0%|          | 0/16 [00:00<?, ?it/s, loss=0.258]"
     ]
    },
    {
     "name": "stdout",
     "output_type": "stream",
     "text": [
      "Epoch [1121/1250] Loss: 0.294671\n"
     ]
    },
    {
     "name": "stderr",
     "output_type": "stream",
     "text": [
      "Epoch [1141/1250]:   0%|          | 0/16 [00:00<?, ?it/s, loss=0.101] "
     ]
    },
    {
     "name": "stdout",
     "output_type": "stream",
     "text": [
      "Epoch [1141/1250] Loss: 0.124840\n"
     ]
    },
    {
     "name": "stderr",
     "output_type": "stream",
     "text": [
      "Epoch [1161/1250]:   0%|          | 0/16 [00:00<?, ?it/s, loss=5.08] "
     ]
    },
    {
     "name": "stdout",
     "output_type": "stream",
     "text": [
      "Epoch [1161/1250] Loss: 3.855697\n"
     ]
    },
    {
     "name": "stderr",
     "output_type": "stream",
     "text": [
      "Epoch [1181/1250]:   0%|          | 0/16 [00:00<?, ?it/s, loss=0.0981]"
     ]
    },
    {
     "name": "stdout",
     "output_type": "stream",
     "text": [
      "Epoch [1181/1250] Loss: 0.224836\n"
     ]
    },
    {
     "name": "stderr",
     "output_type": "stream",
     "text": [
      "Epoch [1201/1250]:   0%|          | 0/16 [00:00<?, ?it/s, loss=0.172] "
     ]
    },
    {
     "name": "stdout",
     "output_type": "stream",
     "text": [
      "Epoch [1201/1250] Loss: 0.356531\n"
     ]
    },
    {
     "name": "stderr",
     "output_type": "stream",
     "text": [
      "Epoch [1221/1250]:   0%|          | 0/16 [00:00<?, ?it/s, loss=0.0956]"
     ]
    },
    {
     "name": "stdout",
     "output_type": "stream",
     "text": [
      "Epoch [1221/1250] Loss: 0.261649\n"
     ]
    },
    {
     "name": "stderr",
     "output_type": "stream",
     "text": [
      "Epoch [1241/1250]:   0%|          | 0/16 [00:00<?, ?it/s, loss=0.141] "
     ]
    },
    {
     "name": "stdout",
     "output_type": "stream",
     "text": [
      "Epoch [1241/1250] Loss: 0.111016\n"
     ]
    },
    {
     "name": "stderr",
     "output_type": "stream",
     "text": [
      "                                                                      "
     ]
    }
   ],
   "source": [
    "epoch_num = 1500\n",
    "\n",
    "epoch_losses = []\n",
    "batch_losses = []\n",
    "\n",
    "model.train()\n",
    "for epoch in range(epoch_num):\n",
    "    epoch_loss = 0\n",
    "    loop = tqdm(train_loader, desc=f\"Epoch [{epoch+1}/{epoch_num}]\", leave=False)\n",
    "\n",
    "    for features, targets in train_loader:\n",
    "        features = features.to(device)\n",
    "        targets = targets.unsqueeze(2).to(device)\n",
    "\n",
    "        optimizer.zero_grad()\n",
    "\n",
    "        output = model(features)\n",
    "\n",
    "        loss = criterion(output, targets)\n",
    "        \n",
    "        loss.backward()\n",
    "        optimizer.step()\n",
    "\n",
    "        batch_losses.append(loss.item())\n",
    "        epoch_loss += loss.item()\n",
    "        loop.set_postfix(loss=loss.item())\n",
    "\n",
    "    epoch_losses.append(epoch_loss / len(train_loader))\n",
    "    if epoch % 20 == 0:\n",
    "        print(f\"Epoch [{epoch+1}/{epoch_num}] Loss: {epoch_losses[-1]:.6f}\")"
   ]
  },
  {
   "cell_type": "code",
   "execution_count": 12,
   "id": "2fc5ff70",
   "metadata": {},
   "outputs": [
    {
     "name": "stdout",
     "output_type": "stream",
     "text": [
      "Total Test Loss: 0.4266856834292412\n"
     ]
    }
   ],
   "source": [
    "# Inference\n",
    "model.eval()\n",
    "\n",
    "test_loss = 0.0\n",
    "test_losses = []\n",
    "outputs = []\n",
    "truths = []\n",
    "\n",
    "for features, targets in test_loader:\n",
    "\n",
    "    features = features.to(device)\n",
    "    targets = targets.to(device)\n",
    "    output = model(features).squeeze(2)\n",
    "\n",
    "    outputs.append(output.cpu().flatten())\n",
    "    truths.append(targets.cpu().flatten())\n",
    "\n",
    "    #print(f\"Target Shape: {targets.shape}\")\n",
    "    #print(f\"Output Shape: {outputs.shape}\")\n",
    "    loss = criterion(output, targets)\n",
    "    \n",
    "    test_losses.append(loss.item())\n",
    "\n",
    "    test_loss += loss.item()\n",
    "\n",
    "print(f\"Total Test Loss: {test_loss}\")\n",
    "\n",
    "all_outputs = torch.cat(outputs).detach().numpy()\n",
    "all_truths = torch.cat(truths).detach().numpy()"
   ]
  },
  {
   "cell_type": "code",
   "execution_count": 13,
   "id": "6a3732a4",
   "metadata": {},
   "outputs": [
    {
     "data": {
      "text/plain": [
       "[<matplotlib.lines.Line2D at 0x17f81efe150>]"
      ]
     },
     "execution_count": 13,
     "metadata": {},
     "output_type": "execute_result"
    },
    {
     "data": {
      "image/png": "[encoded data removed]",
      "text/plain": [
       "<Figure size 640x480 with 1 Axes>"
      ]
     },
     "metadata": {},
     "output_type": "display_data"
    }
   ],
   "source": [
    "plt.plot(all_outputs)\n",
    "plt.plot(all_truths)"
   ]
  },
  {
   "cell_type": "code",
   "execution_count": 14,
   "id": "b256da8f",
   "metadata": {},
   "outputs": [
    {
     "name": "stdout",
     "output_type": "stream",
     "text": [
      "Max Truth Val: 3.8637616634368896\n",
      "Min Truth Val: -0.7724792957305908\n",
      "Within Bound -1 to 1: 2605\n",
      "Outside of -1 to 1: 90\n"
     ]
    }
   ],
   "source": [
    "# Fun Statistic Checker Code \n",
    "\n",
    "count_bound = 0\n",
    "count_no_bound = 0\n",
    "\n",
    "within_bounds_outputs = []\n",
    "within_bounds_truths = []\n",
    "\n",
    "max_truth, min_truth = np.max(all_truths), np.min(all_truths)\n",
    "print(f\"Max Truth Val: {max_truth}\")\n",
    "print(f\"Min Truth Val: {min_truth}\")\n",
    "\n",
    "for idx, pred in enumerate(all_outputs):\n",
    "    if pred >= -1 and pred <= 1 and all_truths[idx] >= -1 and all_truths[idx] <= 1:\n",
    "        count_bound += 1\n",
    "        within_bounds_outputs.append(all_outputs[idx])\n",
    "        within_bounds_truths.append(all_truths[idx])\n",
    "    else:\n",
    "        count_no_bound+=1\n",
    "\n",
    "print(f\"Within Bound -1 to 1: {count_bound}\")\n",
    "print(f\"Outside of -1 to 1: {count_no_bound}\")"
   ]
  },
  {
   "cell_type": "code",
   "execution_count": 15,
   "id": "24bc1caf",
   "metadata": {},
   "outputs": [
    {
     "name": "stderr",
     "output_type": "stream",
     "text": [
      "C:\\Users\\lordw\\AppData\\Local\\Temp\\ipykernel_36540\\522657886.py:7: UserWarning: No artists with labels found to put in legend.  Note that artists whose label start with an underscore are ignored when legend() is called with no argument.\n",
      "  plt.legend()\n"
     ]
    },
    {
     "data": {
      "text/plain": [
       "<matplotlib.legend.Legend at 0x17f81ec4f20>"
      ]
     },
     "execution_count": 15,
     "metadata": {},
     "output_type": "execute_result"
    },
    {
     "data": {
      "image/png": "[encoded data removed]",
      "text/plain": [
       "<Figure size 640x480 with 1 Axes>"
      ]
     },
     "metadata": {},
     "output_type": "display_data"
    }
   ],
   "source": [
    "x = np.linspace(start=0, stop=len(within_bounds_outputs) - 1, num=len(within_bounds_outputs))\n",
    "\n",
    "plt.scatter(x, within_bounds_outputs, alpha=1)\n",
    "#plt.scatter(x, all_truths, alpha=0.05)\n",
    "plt.scatter(x, within_bounds_truths, alpha=0.5)\n",
    "\n",
    "plt.legend()"
   ]
  },
  {
   "cell_type": "code",
   "execution_count": 11,
   "id": "e6505878",
   "metadata": {},
   "outputs": [],
   "source": [
    "torch.save(model.state_dict(), \"model_checkpoint.pth\")\n",
    "torch.save(model, \"full_model.pth\")"
   ]
  },
  {
   "cell_type": "code",
   "execution_count": null,
   "id": "45ef4d2d",
   "metadata": {},
   "outputs": [],
   "source": []
  }
 ],
 "metadata": {
  "kernelspec": {
   "display_name": "venv",
   "language": "python",
   "name": "python3"
  },
  "language_info": {
   "codemirror_mode": {
    "name": "ipython",
    "version": 3
   },
   "file_extension": ".py",
   "mimetype": "text/x-python",
   "name": "python",
   "nbconvert_exporter": "python",
   "pygments_lexer": "ipython3",
   "version": "3.12.10"
  }
 },
 "nbformat": 4,
 "nbformat_minor": 5
}
