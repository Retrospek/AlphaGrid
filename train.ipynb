{
 "cells": [
  {
   "cell_type": "markdown",
   "id": "a526f6dc",
   "metadata": {},
   "source": [
    "# **Edge-Centric Model Training**"
   ]
  },
  {
   "cell_type": "code",
   "execution_count": 18,
   "id": "76d31078",
   "metadata": {},
   "outputs": [
    {
     "name": "stdout",
     "output_type": "stream",
     "text": [
      "torch:               2.7.1+cu118\n",
      "device:              cuda\n",
      "numpy:               2.2.4\n",
      "matplotlib:          3.10.3\n",
      "logger (custom):     loaded\n"
     ]
    }
   ],
   "source": [
    "import torch\n",
    "import torch.nn as nn\n",
    "import torch.optim as optim\n",
    "import torch.nn.functional as F\n",
    "from torch.utils.data import Dataset, DataLoader\n",
    "print(f\"{'torch:':<20} {torch.__version__}\")\n",
    "device = \"cuda\" if torch.cuda.is_available() else \"cpu\"\n",
    "print(f\"{'device:':<20} {device}\")\n",
    "\n",
    "import numpy as np\n",
    "import math\n",
    "import random\n",
    "print(f\"{'numpy:':<20} {np.__version__}\")\n",
    "\n",
    "import matplotlib\n",
    "import matplotlib.pyplot as plt\n",
    "print(f\"{'matplotlib:':<20} {matplotlib.__version__}\")\n",
    "\n",
    "from tqdm import tqdm\n",
    "\n",
    "import logger\n",
    "print(f\"{'logger (custom):':<20} loaded\")\n",
    "\n",
    "from Models.Architectures.edgeGNN import EdgeCentricNetwork\n",
    "from DataManagement.data import StaticFinancialDataset, TemporalFinancialDataset"
   ]
  },
  {
   "cell_type": "code",
   "execution_count": 2,
   "id": "7bedc91b",
   "metadata": {},
   "outputs": [
    {
     "name": "stdout",
     "output_type": "stream",
     "text": [
      "Downloading Sector-Based Data...\n"
     ]
    },
    {
     "name": "stderr",
     "output_type": "stream",
     "text": [
      "c:\\Users\\lordw\\OneDrive\\Documents\\ML\\MLprojects\\AlphaGrid\\DataManagement\\data_load.py:38: FutureWarning: YF.download() has changed argument auto_adjust default to True\n",
      "  sector_data = yf.download(tickers=list(sector_mapping.keys()), start=start_date, end=end_date)\n",
      "[*********************100%***********************]  11 of 11 completed\n"
     ]
    },
    {
     "name": "stdout",
     "output_type": "stream",
     "text": [
      "Downloaded yfinance sector data for =:\n",
      "-> Keys: ['XLK', 'XLF', 'XLE', 'XLV', 'XLI', 'XLP', 'XLY', 'XLU', 'XLB', 'XLRE', 'XLC']\n",
      "-> Values: listdict_values(['Technology', 'Financials', 'Energy', 'Health Care', 'Industrials', 'Consumer Staples', 'Consumer Discretionary', 'Utilities', 'Materials', 'Real Estate', 'Communication Services'])\n",
      "Flattening Column Labels to Remove Tuple-Based Column Structure... & Shifting Date into Column\n",
      "* Done Preprocessing and Organizing Data *\n",
      "\n",
      "=== Checking Download Uniformity ===\n",
      "XLK: 1254 rows with data\n",
      "XLF: 1254 rows with data\n",
      "XLE: 1254 rows with data\n",
      "XLV: 1254 rows with data\n",
      "XLI: 1254 rows with data\n",
      "XLP: 1254 rows with data\n",
      "XLY: 1254 rows with data\n",
      "XLU: 1254 rows with data\n",
      "XLB: 1254 rows with data\n",
      "XLRE: 1254 rows with data\n",
      "XLC: 1254 rows with data\n",
      "✓ All sectors have same number of dates\n",
      "Common dates: 1254\n",
      "XLK len: 1254\n",
      "XLF len: 1254\n",
      "XLE len: 1254\n",
      "XLV len: 1254\n",
      "XLI len: 1254\n",
      "XLP len: 1254\n",
      "XLY len: 1254\n",
      "XLU len: 1254\n",
      "XLB len: 1254\n",
      "XLRE len: 1254\n",
      "XLC len: 1254\n",
      "XLK data length: 1223\n",
      "XLF data length: 1223\n",
      "XLE data length: 1223\n",
      "XLV data length: 1223\n",
      "XLI data length: 1223\n",
      "XLP data length: 1223\n",
      "XLY data length: 1223\n",
      "XLU data length: 1223\n",
      "XLB data length: 1223\n",
      "XLRE data length: 1223\n",
      "XLC data length: 1223\n",
      "XLK len: 1223\n",
      "XLF len: 1223\n",
      "XLE len: 1223\n",
      "XLV len: 1223\n",
      "XLI len: 1223\n",
      "XLP len: 1223\n",
      "XLY len: 1223\n",
      "XLU len: 1223\n",
      "XLB len: 1223\n",
      "XLRE len: 1223\n",
      "XLC len: 1223\n",
      "Any NaNs in features? tensor(False)\n",
      "Any Infs in features? tensor(False)\n"
     ]
    },
    {
     "name": "stderr",
     "output_type": "stream",
     "text": [
      "c:\\Users\\lordw\\OneDrive\\Documents\\ML\\MLprojects\\AlphaGrid\\DataManagement\\data.py:146: UserWarning: Creating a tensor from a list of numpy.ndarrays is extremely slow. Please consider converting the list to a single numpy.ndarray with numpy.array() before converting to a tensor. (Triggered internally at C:\\actions-runner\\_work\\pytorch\\pytorch\\pytorch\\torch\\csrc\\utils\\tensor_new.cpp:257.)\n",
      "  feature_data = torch.tensor(data=feature_data, dtype=torch.float32).transpose(0, 1)\n"
     ]
    }
   ],
   "source": [
    "window = 14\n",
    "dataset = TemporalFinancialDataset(window_size=window)"
   ]
  },
  {
   "cell_type": "code",
   "execution_count": 3,
   "id": "7a1bca9f",
   "metadata": {},
   "outputs": [
    {
     "name": "stdout",
     "output_type": "stream",
     "text": [
      "Batch Feature Dim: torch.Size([64, 14, 11, 89])\n",
      "Batch Target Dim: torch.Size([64, 14, 11])\n",
      "Train Dataset Length: 968\n",
      "Test Dataset Length: 242\n",
      "torch.Size([1223, 11, 89])\n"
     ]
    }
   ],
   "source": [
    "num_samples = len(dataset)\n",
    "\n",
    "train_split = 0.8\n",
    "test_split = 0.2\n",
    "\n",
    "train_size = int(train_split * num_samples)\n",
    "test_size = num_samples - train_size\n",
    "\n",
    "train_dataset = torch.utils.data.Subset(dataset, list(range(train_size)))\n",
    "test_dataset = torch.utils.data.Subset(dataset, list(range(train_size, num_samples)))\n",
    "\n",
    "train_loader = DataLoader(train_dataset, batch_size=64, shuffle=False)\n",
    "test_loader = DataLoader(test_dataset, batch_size=64, shuffle=False)\n",
    "\n",
    "sample_batch = next(iter(train_loader))\n",
    "print(f\"Batch Feature Dim: {sample_batch[0].shape}\")\n",
    "print(f\"Batch Target Dim: {sample_batch[1].shape}\")\n",
    "print(f\"Train Dataset Length: {len(train_dataset)}\")\n",
    "print(f\"Test Dataset Length: {len(test_dataset)}\")\n",
    "\n",
    "print(dataset.features.shape)"
   ]
  },
  {
   "cell_type": "code",
   "execution_count": 4,
   "id": "fc9e0842",
   "metadata": {},
   "outputs": [
    {
     "data": {
      "text/plain": [
       "EdgeCentricNetwork(\n",
       "  (edge_updater): TemporalEdgeUpdater(\n",
       "    (sigmoid): Sigmoid()\n",
       "    (tanh): Tanh()\n",
       "    (lstm_layers): ModuleList(\n",
       "      (0): LSTM(178, 128, batch_first=True)\n",
       "      (1): LSTM(128, 64, batch_first=True)\n",
       "      (2): LSTM(64, 32, batch_first=True)\n",
       "    )\n",
       "    (refined_edges): Sequential(\n",
       "      (0): Linear(in_features=32, out_features=512, bias=True)\n",
       "      (1): ReLU()\n",
       "      (2): Linear(in_features=512, out_features=256, bias=True)\n",
       "      (3): ReLU()\n",
       "      (4): Linear(in_features=256, out_features=128, bias=True)\n",
       "      (5): ReLU()\n",
       "      (6): Linear(in_features=128, out_features=64, bias=True)\n",
       "      (7): ReLU()\n",
       "      (8): Linear(in_features=64, out_features=10, bias=True)\n",
       "    )\n",
       "  )\n",
       "  (regression): EdgetoNodeRegressionBlock(\n",
       "    (regression): Sequential(\n",
       "      (0): Linear(in_features=110, out_features=512, bias=True)\n",
       "      (1): ReLU()\n",
       "      (2): Linear(in_features=512, out_features=256, bias=True)\n",
       "      (3): ReLU()\n",
       "      (4): Linear(in_features=256, out_features=128, bias=True)\n",
       "      (5): ReLU()\n",
       "      (6): Linear(in_features=128, out_features=64, bias=True)\n",
       "      (7): ReLU()\n",
       "      (8): Linear(in_features=64, out_features=64, bias=True)\n",
       "      (9): ReLU()\n",
       "      (10): Linear(in_features=64, out_features=1, bias=True)\n",
       "    )\n",
       "  )\n",
       ")"
      ]
     },
     "execution_count": 4,
     "metadata": {},
     "output_type": "execute_result"
    }
   ],
   "source": [
    "static = False\n",
    "temporal = True\n",
    "model = EdgeCentricNetwork(num_nodes=dataset.num_sectors, edge_dim=10, node_dim=dataset.features.shape[2], static=static, temporal=temporal, window=window)\n",
    "model.to(device)\n",
    "\n",
    "LR = 3.5e-5\n",
    "optimizer = optim.Adam(params=model.parameters(), lr=LR)\n",
    "criterion = nn.SmoothL1Loss()\n",
    "\n",
    "model"
   ]
  },
  {
   "cell_type": "code",
   "execution_count": 7,
   "id": "2bc82729",
   "metadata": {},
   "outputs": [
    {
     "name": "stderr",
     "output_type": "stream",
     "text": [
      "Epoch [1/1500]:   0%|          | 0/16 [00:02<?, ?it/s, loss=0.0467]"
     ]
    },
    {
     "name": "stdout",
     "output_type": "stream",
     "text": [
      "Epoch [1/1500] Loss: 0.037066\n"
     ]
    },
    {
     "name": "stderr",
     "output_type": "stream",
     "text": [
      "Epoch [21/1500]:   0%|          | 0/16 [00:03<?, ?it/s, loss=0.0468]"
     ]
    },
    {
     "name": "stdout",
     "output_type": "stream",
     "text": [
      "Epoch [21/1500] Loss: 0.036953\n"
     ]
    },
    {
     "name": "stderr",
     "output_type": "stream",
     "text": [
      "Epoch [41/1500]:   0%|          | 0/16 [00:03<?, ?it/s, loss=0.0467]"
     ]
    },
    {
     "name": "stdout",
     "output_type": "stream",
     "text": [
      "Epoch [41/1500] Loss: 0.036877\n"
     ]
    },
    {
     "name": "stderr",
     "output_type": "stream",
     "text": [
      "Epoch [61/1500]:   0%|          | 0/16 [00:03<?, ?it/s, loss=0.0465]"
     ]
    },
    {
     "name": "stdout",
     "output_type": "stream",
     "text": [
      "Epoch [61/1500] Loss: 0.036826\n"
     ]
    },
    {
     "name": "stderr",
     "output_type": "stream",
     "text": [
      "Epoch [81/1500]:   0%|          | 0/16 [00:03<?, ?it/s, loss=0.0462]"
     ]
    },
    {
     "name": "stdout",
     "output_type": "stream",
     "text": [
      "Epoch [81/1500] Loss: 0.036682\n"
     ]
    },
    {
     "name": "stderr",
     "output_type": "stream",
     "text": [
      "Epoch [101/1500]:   0%|          | 0/16 [00:03<?, ?it/s, loss=0.0458]"
     ]
    },
    {
     "name": "stdout",
     "output_type": "stream",
     "text": [
      "Epoch [101/1500] Loss: 0.036566\n"
     ]
    },
    {
     "name": "stderr",
     "output_type": "stream",
     "text": [
      "Epoch [121/1500]:   0%|          | 0/16 [00:03<?, ?it/s, loss=0.0455]"
     ]
    },
    {
     "name": "stdout",
     "output_type": "stream",
     "text": [
      "Epoch [121/1500] Loss: 0.036540\n"
     ]
    },
    {
     "name": "stderr",
     "output_type": "stream",
     "text": [
      "Epoch [141/1500]:   0%|          | 0/16 [00:03<?, ?it/s, loss=0.0452]"
     ]
    },
    {
     "name": "stdout",
     "output_type": "stream",
     "text": [
      "Epoch [141/1500] Loss: 0.036362\n"
     ]
    },
    {
     "name": "stderr",
     "output_type": "stream",
     "text": [
      "Epoch [161/1500]:   0%|          | 0/16 [00:03<?, ?it/s, loss=0.0447]"
     ]
    },
    {
     "name": "stdout",
     "output_type": "stream",
     "text": [
      "Epoch [161/1500] Loss: 0.036342\n"
     ]
    },
    {
     "name": "stderr",
     "output_type": "stream",
     "text": [
      "Epoch [181/1500]:   0%|          | 0/16 [00:03<?, ?it/s, loss=0.0441]"
     ]
    },
    {
     "name": "stdout",
     "output_type": "stream",
     "text": [
      "Epoch [181/1500] Loss: 0.036083\n"
     ]
    },
    {
     "name": "stderr",
     "output_type": "stream",
     "text": [
      "Epoch [201/1500]:   0%|          | 0/16 [00:03<?, ?it/s, loss=0.0437]"
     ]
    },
    {
     "name": "stdout",
     "output_type": "stream",
     "text": [
      "Epoch [201/1500] Loss: 0.036015\n"
     ]
    },
    {
     "name": "stderr",
     "output_type": "stream",
     "text": [
      "Epoch [221/1500]:   0%|          | 0/16 [00:03<?, ?it/s, loss=0.0432]"
     ]
    },
    {
     "name": "stdout",
     "output_type": "stream",
     "text": [
      "Epoch [221/1500] Loss: 0.035789\n"
     ]
    },
    {
     "name": "stderr",
     "output_type": "stream",
     "text": [
      "Epoch [241/1500]:   0%|          | 0/16 [00:03<?, ?it/s, loss=0.043] "
     ]
    },
    {
     "name": "stdout",
     "output_type": "stream",
     "text": [
      "Epoch [241/1500] Loss: 0.035931\n"
     ]
    },
    {
     "name": "stderr",
     "output_type": "stream",
     "text": [
      "Epoch [261/1500]:   0%|          | 0/16 [00:03<?, ?it/s, loss=0.0416]"
     ]
    },
    {
     "name": "stdout",
     "output_type": "stream",
     "text": [
      "Epoch [261/1500] Loss: 0.035356\n"
     ]
    },
    {
     "name": "stderr",
     "output_type": "stream",
     "text": [
      "Epoch [281/1500]:   0%|          | 0/16 [00:03<?, ?it/s, loss=0.0415]"
     ]
    },
    {
     "name": "stdout",
     "output_type": "stream",
     "text": [
      "Epoch [281/1500] Loss: 0.035324\n"
     ]
    },
    {
     "name": "stderr",
     "output_type": "stream",
     "text": [
      "Epoch [301/1500]:   0%|          | 0/16 [00:03<?, ?it/s, loss=0.0415]"
     ]
    },
    {
     "name": "stdout",
     "output_type": "stream",
     "text": [
      "Epoch [301/1500] Loss: 0.035558\n"
     ]
    },
    {
     "name": "stderr",
     "output_type": "stream",
     "text": [
      "Epoch [321/1500]:   0%|          | 0/16 [00:03<?, ?it/s, loss=0.0399]"
     ]
    },
    {
     "name": "stdout",
     "output_type": "stream",
     "text": [
      "Epoch [321/1500] Loss: 0.035020\n"
     ]
    },
    {
     "name": "stderr",
     "output_type": "stream",
     "text": [
      "Epoch [341/1500]:   0%|          | 0/16 [00:03<?, ?it/s, loss=0.0388]"
     ]
    },
    {
     "name": "stdout",
     "output_type": "stream",
     "text": [
      "Epoch [341/1500] Loss: 0.034724\n"
     ]
    },
    {
     "name": "stderr",
     "output_type": "stream",
     "text": [
      "Epoch [361/1500]:   0%|          | 0/16 [00:03<?, ?it/s, loss=0.0382]"
     ]
    },
    {
     "name": "stdout",
     "output_type": "stream",
     "text": [
      "Epoch [361/1500] Loss: 0.034270\n"
     ]
    },
    {
     "name": "stderr",
     "output_type": "stream",
     "text": [
      "Epoch [381/1500]:   0%|          | 0/16 [00:03<?, ?it/s, loss=0.0383]"
     ]
    },
    {
     "name": "stdout",
     "output_type": "stream",
     "text": [
      "Epoch [381/1500] Loss: 0.034274\n"
     ]
    },
    {
     "name": "stderr",
     "output_type": "stream",
     "text": [
      "Epoch [401/1500]:   0%|          | 0/16 [00:03<?, ?it/s, loss=0.0372]"
     ]
    },
    {
     "name": "stdout",
     "output_type": "stream",
     "text": [
      "Epoch [401/1500] Loss: 0.033581\n"
     ]
    },
    {
     "name": "stderr",
     "output_type": "stream",
     "text": [
      "Epoch [421/1500]:   0%|          | 0/16 [00:03<?, ?it/s, loss=0.0377]"
     ]
    },
    {
     "name": "stdout",
     "output_type": "stream",
     "text": [
      "Epoch [421/1500] Loss: 0.033331\n"
     ]
    },
    {
     "name": "stderr",
     "output_type": "stream",
     "text": [
      "Epoch [441/1500]:   0%|          | 0/16 [00:03<?, ?it/s, loss=0.0386]"
     ]
    },
    {
     "name": "stdout",
     "output_type": "stream",
     "text": [
      "Epoch [441/1500] Loss: 0.033741\n"
     ]
    },
    {
     "name": "stderr",
     "output_type": "stream",
     "text": [
      "Epoch [461/1500]:   0%|          | 0/16 [00:03<?, ?it/s, loss=0.0362]"
     ]
    },
    {
     "name": "stdout",
     "output_type": "stream",
     "text": [
      "Epoch [461/1500] Loss: 0.032975\n"
     ]
    },
    {
     "name": "stderr",
     "output_type": "stream",
     "text": [
      "Epoch [481/1500]:   0%|          | 0/16 [00:03<?, ?it/s, loss=0.036] "
     ]
    },
    {
     "name": "stdout",
     "output_type": "stream",
     "text": [
      "Epoch [481/1500] Loss: 0.032938\n"
     ]
    },
    {
     "name": "stderr",
     "output_type": "stream",
     "text": [
      "Epoch [501/1500]:   0%|          | 0/16 [00:03<?, ?it/s, loss=0.0363]"
     ]
    },
    {
     "name": "stdout",
     "output_type": "stream",
     "text": [
      "Epoch [501/1500] Loss: 0.032932\n"
     ]
    },
    {
     "name": "stderr",
     "output_type": "stream",
     "text": [
      "Epoch [521/1500]:   0%|          | 0/16 [00:03<?, ?it/s, loss=0.0365]"
     ]
    },
    {
     "name": "stdout",
     "output_type": "stream",
     "text": [
      "Epoch [521/1500] Loss: 0.033154\n"
     ]
    },
    {
     "name": "stderr",
     "output_type": "stream",
     "text": [
      "Epoch [541/1500]:   0%|          | 0/16 [00:03<?, ?it/s, loss=0.0362]"
     ]
    },
    {
     "name": "stdout",
     "output_type": "stream",
     "text": [
      "Epoch [541/1500] Loss: 0.032137\n"
     ]
    },
    {
     "name": "stderr",
     "output_type": "stream",
     "text": [
      "Epoch [561/1500]:   0%|          | 0/16 [00:03<?, ?it/s, loss=0.0359]"
     ]
    },
    {
     "name": "stdout",
     "output_type": "stream",
     "text": [
      "Epoch [561/1500] Loss: 0.031532\n"
     ]
    },
    {
     "name": "stderr",
     "output_type": "stream",
     "text": [
      "Epoch [581/1500]:   0%|          | 0/16 [00:03<?, ?it/s, loss=0.0358]"
     ]
    },
    {
     "name": "stdout",
     "output_type": "stream",
     "text": [
      "Epoch [581/1500] Loss: 0.031164\n"
     ]
    },
    {
     "name": "stderr",
     "output_type": "stream",
     "text": [
      "Epoch [601/1500]:   0%|          | 0/16 [00:03<?, ?it/s, loss=0.0364]"
     ]
    },
    {
     "name": "stdout",
     "output_type": "stream",
     "text": [
      "Epoch [601/1500] Loss: 0.032116\n"
     ]
    },
    {
     "name": "stderr",
     "output_type": "stream",
     "text": [
      "Epoch [621/1500]:   0%|          | 0/16 [00:03<?, ?it/s, loss=0.0357]"
     ]
    },
    {
     "name": "stdout",
     "output_type": "stream",
     "text": [
      "Epoch [621/1500] Loss: 0.030883\n"
     ]
    },
    {
     "name": "stderr",
     "output_type": "stream",
     "text": [
      "Epoch [641/1500]:   0%|          | 0/16 [00:03<?, ?it/s, loss=0.0357]"
     ]
    },
    {
     "name": "stdout",
     "output_type": "stream",
     "text": [
      "Epoch [641/1500] Loss: 0.030433\n"
     ]
    },
    {
     "name": "stderr",
     "output_type": "stream",
     "text": [
      "Epoch [661/1500]:   0%|          | 0/16 [00:03<?, ?it/s, loss=0.0363]"
     ]
    },
    {
     "name": "stdout",
     "output_type": "stream",
     "text": [
      "Epoch [661/1500] Loss: 0.032329\n"
     ]
    },
    {
     "name": "stderr",
     "output_type": "stream",
     "text": [
      "Epoch [681/1500]:   0%|          | 0/16 [00:03<?, ?it/s, loss=0.0357]"
     ]
    },
    {
     "name": "stdout",
     "output_type": "stream",
     "text": [
      "Epoch [681/1500] Loss: 0.030393\n"
     ]
    },
    {
     "name": "stderr",
     "output_type": "stream",
     "text": [
      "Epoch [701/1500]:   0%|          | 0/16 [00:03<?, ?it/s, loss=0.0365]"
     ]
    },
    {
     "name": "stdout",
     "output_type": "stream",
     "text": [
      "Epoch [701/1500] Loss: 0.031407\n"
     ]
    },
    {
     "name": "stderr",
     "output_type": "stream",
     "text": [
      "Epoch [721/1500]:   0%|          | 0/16 [00:03<?, ?it/s, loss=0.036] "
     ]
    },
    {
     "name": "stdout",
     "output_type": "stream",
     "text": [
      "Epoch [721/1500] Loss: 0.030906\n"
     ]
    },
    {
     "name": "stderr",
     "output_type": "stream",
     "text": [
      "Epoch [741/1500]:   0%|          | 0/16 [00:03<?, ?it/s, loss=0.0356]"
     ]
    },
    {
     "name": "stdout",
     "output_type": "stream",
     "text": [
      "Epoch [741/1500] Loss: 0.030144\n"
     ]
    },
    {
     "name": "stderr",
     "output_type": "stream",
     "text": [
      "Epoch [761/1500]:   0%|          | 0/16 [00:03<?, ?it/s, loss=0.0353]"
     ]
    },
    {
     "name": "stdout",
     "output_type": "stream",
     "text": [
      "Epoch [761/1500] Loss: 0.029773\n"
     ]
    },
    {
     "name": "stderr",
     "output_type": "stream",
     "text": [
      "Epoch [781/1500]:   0%|          | 0/16 [00:03<?, ?it/s, loss=0.0353]"
     ]
    },
    {
     "name": "stdout",
     "output_type": "stream",
     "text": [
      "Epoch [781/1500] Loss: 0.029504\n"
     ]
    },
    {
     "name": "stderr",
     "output_type": "stream",
     "text": [
      "Epoch [801/1500]:   0%|          | 0/16 [00:03<?, ?it/s, loss=0.0355]"
     ]
    },
    {
     "name": "stdout",
     "output_type": "stream",
     "text": [
      "Epoch [801/1500] Loss: 0.029899\n"
     ]
    },
    {
     "name": "stderr",
     "output_type": "stream",
     "text": [
      "Epoch [821/1500]:   0%|          | 0/16 [00:03<?, ?it/s, loss=0.035] "
     ]
    },
    {
     "name": "stdout",
     "output_type": "stream",
     "text": [
      "Epoch [821/1500] Loss: 0.029511\n"
     ]
    },
    {
     "name": "stderr",
     "output_type": "stream",
     "text": [
      "Epoch [841/1500]:   0%|          | 0/16 [00:03<?, ?it/s, loss=0.0348]"
     ]
    },
    {
     "name": "stdout",
     "output_type": "stream",
     "text": [
      "Epoch [841/1500] Loss: 0.029154\n"
     ]
    },
    {
     "name": "stderr",
     "output_type": "stream",
     "text": [
      "Epoch [861/1500]:   0%|          | 0/16 [00:03<?, ?it/s, loss=0.0356]"
     ]
    },
    {
     "name": "stdout",
     "output_type": "stream",
     "text": [
      "Epoch [861/1500] Loss: 0.030247\n"
     ]
    },
    {
     "name": "stderr",
     "output_type": "stream",
     "text": [
      "Epoch [881/1500]:   0%|          | 0/16 [00:03<?, ?it/s, loss=0.0349]"
     ]
    },
    {
     "name": "stdout",
     "output_type": "stream",
     "text": [
      "Epoch [881/1500] Loss: 0.029368\n"
     ]
    },
    {
     "name": "stderr",
     "output_type": "stream",
     "text": [
      "Epoch [901/1500]:   0%|          | 0/16 [00:03<?, ?it/s, loss=0.0348]"
     ]
    },
    {
     "name": "stdout",
     "output_type": "stream",
     "text": [
      "Epoch [901/1500] Loss: 0.028764\n"
     ]
    },
    {
     "name": "stderr",
     "output_type": "stream",
     "text": [
      "Epoch [921/1500]:   0%|          | 0/16 [00:03<?, ?it/s, loss=0.035] "
     ]
    },
    {
     "name": "stdout",
     "output_type": "stream",
     "text": [
      "Epoch [921/1500] Loss: 0.028643\n"
     ]
    },
    {
     "name": "stderr",
     "output_type": "stream",
     "text": [
      "Epoch [941/1500]:   0%|          | 0/16 [00:03<?, ?it/s, loss=0.0351]"
     ]
    },
    {
     "name": "stdout",
     "output_type": "stream",
     "text": [
      "Epoch [941/1500] Loss: 0.029567\n"
     ]
    },
    {
     "name": "stderr",
     "output_type": "stream",
     "text": [
      "Epoch [961/1500]:   0%|          | 0/16 [00:03<?, ?it/s, loss=0.035] "
     ]
    },
    {
     "name": "stdout",
     "output_type": "stream",
     "text": [
      "Epoch [961/1500] Loss: 0.029339\n"
     ]
    },
    {
     "name": "stderr",
     "output_type": "stream",
     "text": [
      "Epoch [981/1500]:   0%|          | 0/16 [00:03<?, ?it/s, loss=0.0347]"
     ]
    },
    {
     "name": "stdout",
     "output_type": "stream",
     "text": [
      "Epoch [981/1500] Loss: 0.028856\n"
     ]
    },
    {
     "name": "stderr",
     "output_type": "stream",
     "text": [
      "Epoch [1001/1500]:   0%|          | 0/16 [00:03<?, ?it/s, loss=0.0346]"
     ]
    },
    {
     "name": "stdout",
     "output_type": "stream",
     "text": [
      "Epoch [1001/1500] Loss: 0.028905\n"
     ]
    },
    {
     "name": "stderr",
     "output_type": "stream",
     "text": [
      "Epoch [1021/1500]:   0%|          | 0/16 [00:03<?, ?it/s, loss=0.0346]"
     ]
    },
    {
     "name": "stdout",
     "output_type": "stream",
     "text": [
      "Epoch [1021/1500] Loss: 0.028003\n"
     ]
    },
    {
     "name": "stderr",
     "output_type": "stream",
     "text": [
      "Epoch [1041/1500]:   0%|          | 0/16 [00:03<?, ?it/s, loss=0.0346]"
     ]
    },
    {
     "name": "stdout",
     "output_type": "stream",
     "text": [
      "Epoch [1041/1500] Loss: 0.027875\n"
     ]
    },
    {
     "name": "stderr",
     "output_type": "stream",
     "text": [
      "Epoch [1061/1500]:   0%|          | 0/16 [00:03<?, ?it/s, loss=0.0344]"
     ]
    },
    {
     "name": "stdout",
     "output_type": "stream",
     "text": [
      "Epoch [1061/1500] Loss: 0.027651\n"
     ]
    },
    {
     "name": "stderr",
     "output_type": "stream",
     "text": [
      "Epoch [1081/1500]:   0%|          | 0/16 [00:03<?, ?it/s, loss=0.0347]"
     ]
    },
    {
     "name": "stdout",
     "output_type": "stream",
     "text": [
      "Epoch [1081/1500] Loss: 0.027822\n"
     ]
    },
    {
     "name": "stderr",
     "output_type": "stream",
     "text": [
      "Epoch [1101/1500]:   0%|          | 0/16 [00:03<?, ?it/s, loss=0.0349]"
     ]
    },
    {
     "name": "stdout",
     "output_type": "stream",
     "text": [
      "Epoch [1101/1500] Loss: 0.028114\n"
     ]
    },
    {
     "name": "stderr",
     "output_type": "stream",
     "text": [
      "Epoch [1121/1500]:   0%|          | 0/16 [00:03<?, ?it/s, loss=0.0345]"
     ]
    },
    {
     "name": "stdout",
     "output_type": "stream",
     "text": [
      "Epoch [1121/1500] Loss: 0.027744\n"
     ]
    },
    {
     "name": "stderr",
     "output_type": "stream",
     "text": [
      "Epoch [1141/1500]:   0%|          | 0/16 [00:03<?, ?it/s, loss=0.0348]"
     ]
    },
    {
     "name": "stdout",
     "output_type": "stream",
     "text": [
      "Epoch [1141/1500] Loss: 0.028372\n"
     ]
    },
    {
     "name": "stderr",
     "output_type": "stream",
     "text": [
      "Epoch [1161/1500]:   0%|          | 0/16 [00:03<?, ?it/s, loss=0.0344]"
     ]
    },
    {
     "name": "stdout",
     "output_type": "stream",
     "text": [
      "Epoch [1161/1500] Loss: 0.027386\n"
     ]
    },
    {
     "name": "stderr",
     "output_type": "stream",
     "text": [
      "Epoch [1181/1500]:   0%|          | 0/16 [00:03<?, ?it/s, loss=0.0346]"
     ]
    },
    {
     "name": "stdout",
     "output_type": "stream",
     "text": [
      "Epoch [1181/1500] Loss: 0.027901\n"
     ]
    },
    {
     "name": "stderr",
     "output_type": "stream",
     "text": [
      "Epoch [1201/1500]:   0%|          | 0/16 [00:03<?, ?it/s, loss=0.0354]"
     ]
    },
    {
     "name": "stdout",
     "output_type": "stream",
     "text": [
      "Epoch [1201/1500] Loss: 0.028465\n"
     ]
    },
    {
     "name": "stderr",
     "output_type": "stream",
     "text": [
      "Epoch [1221/1500]:   0%|          | 0/16 [00:03<?, ?it/s, loss=0.0346]"
     ]
    },
    {
     "name": "stdout",
     "output_type": "stream",
     "text": [
      "Epoch [1221/1500] Loss: 0.027873\n"
     ]
    },
    {
     "name": "stderr",
     "output_type": "stream",
     "text": [
      "Epoch [1241/1500]:   0%|          | 0/16 [00:03<?, ?it/s, loss=0.0343]"
     ]
    },
    {
     "name": "stdout",
     "output_type": "stream",
     "text": [
      "Epoch [1241/1500] Loss: 0.027143\n"
     ]
    },
    {
     "name": "stderr",
     "output_type": "stream",
     "text": [
      "Epoch [1261/1500]:   0%|          | 0/16 [00:03<?, ?it/s, loss=0.0343]"
     ]
    },
    {
     "name": "stdout",
     "output_type": "stream",
     "text": [
      "Epoch [1261/1500] Loss: 0.027190\n"
     ]
    },
    {
     "name": "stderr",
     "output_type": "stream",
     "text": [
      "Epoch [1281/1500]:   0%|          | 0/16 [00:03<?, ?it/s, loss=0.0343]"
     ]
    },
    {
     "name": "stdout",
     "output_type": "stream",
     "text": [
      "Epoch [1281/1500] Loss: 0.027125\n"
     ]
    },
    {
     "name": "stderr",
     "output_type": "stream",
     "text": [
      "Epoch [1301/1500]:   0%|          | 0/16 [00:03<?, ?it/s, loss=0.0347]"
     ]
    },
    {
     "name": "stdout",
     "output_type": "stream",
     "text": [
      "Epoch [1301/1500] Loss: 0.027778\n"
     ]
    },
    {
     "name": "stderr",
     "output_type": "stream",
     "text": [
      "Epoch [1321/1500]:   0%|          | 0/16 [00:03<?, ?it/s, loss=0.0344]"
     ]
    },
    {
     "name": "stdout",
     "output_type": "stream",
     "text": [
      "Epoch [1321/1500] Loss: 0.026967\n"
     ]
    },
    {
     "name": "stderr",
     "output_type": "stream",
     "text": [
      "Epoch [1341/1500]:   0%|          | 0/16 [00:03<?, ?it/s, loss=0.0342]"
     ]
    },
    {
     "name": "stdout",
     "output_type": "stream",
     "text": [
      "Epoch [1341/1500] Loss: 0.026738\n"
     ]
    },
    {
     "name": "stderr",
     "output_type": "stream",
     "text": [
      "Epoch [1361/1500]:   0%|          | 0/16 [00:03<?, ?it/s, loss=0.0344]"
     ]
    },
    {
     "name": "stdout",
     "output_type": "stream",
     "text": [
      "Epoch [1361/1500] Loss: 0.027158\n"
     ]
    },
    {
     "name": "stderr",
     "output_type": "stream",
     "text": [
      "Epoch [1381/1500]:   0%|          | 0/16 [00:03<?, ?it/s, loss=0.0346]"
     ]
    },
    {
     "name": "stdout",
     "output_type": "stream",
     "text": [
      "Epoch [1381/1500] Loss: 0.027298\n"
     ]
    },
    {
     "name": "stderr",
     "output_type": "stream",
     "text": [
      "Epoch [1401/1500]:   0%|          | 0/16 [00:03<?, ?it/s, loss=0.0362]"
     ]
    },
    {
     "name": "stdout",
     "output_type": "stream",
     "text": [
      "Epoch [1401/1500] Loss: 0.029490\n"
     ]
    },
    {
     "name": "stderr",
     "output_type": "stream",
     "text": [
      "Epoch [1421/1500]:   0%|          | 0/16 [00:03<?, ?it/s, loss=0.0352]"
     ]
    },
    {
     "name": "stdout",
     "output_type": "stream",
     "text": [
      "Epoch [1421/1500] Loss: 0.027900\n"
     ]
    },
    {
     "name": "stderr",
     "output_type": "stream",
     "text": [
      "Epoch [1441/1500]:   0%|          | 0/16 [00:03<?, ?it/s, loss=0.0347]"
     ]
    },
    {
     "name": "stdout",
     "output_type": "stream",
     "text": [
      "Epoch [1441/1500] Loss: 0.027457\n"
     ]
    },
    {
     "name": "stderr",
     "output_type": "stream",
     "text": [
      "Epoch [1461/1500]:   0%|          | 0/16 [00:03<?, ?it/s, loss=0.0344]"
     ]
    },
    {
     "name": "stdout",
     "output_type": "stream",
     "text": [
      "Epoch [1461/1500] Loss: 0.026883\n"
     ]
    },
    {
     "name": "stderr",
     "output_type": "stream",
     "text": [
      "Epoch [1481/1500]:   0%|          | 0/16 [00:03<?, ?it/s, loss=0.0343]"
     ]
    },
    {
     "name": "stdout",
     "output_type": "stream",
     "text": [
      "Epoch [1481/1500] Loss: 0.026976\n"
     ]
    },
    {
     "name": "stderr",
     "output_type": "stream",
     "text": [
      "                                                                      "
     ]
    }
   ],
   "source": [
    "epoch_num = 1500\n",
    "\n",
    "epoch_losses = []\n",
    "batch_losses = []\n",
    "\n",
    "model.train()\n",
    "for epoch in range(epoch_num):\n",
    "    epoch_loss = 0\n",
    "    loop = tqdm(train_loader, desc=f\"Epoch [{epoch+1}/{epoch_num}]\", leave=False)\n",
    "\n",
    "    for features, targets in train_loader:\n",
    "        features = features.to(device)\n",
    "        targets = targets.unsqueeze(2).to(device)\n",
    "\n",
    "        optimizer.zero_grad()\n",
    "\n",
    "        output = model(features)\n",
    "        \n",
    "        loss = criterion(output, targets)\n",
    "        \n",
    "        loss.backward()\n",
    "        optimizer.step()\n",
    "\n",
    "        batch_losses.append(loss.item())\n",
    "        epoch_loss += loss.item()\n",
    "        loop.set_postfix(loss=loss.item())\n",
    "\n",
    "    epoch_losses.append(epoch_loss / len(train_loader))\n",
    "    if epoch % 20 == 0:\n",
    "        print(f\"Epoch [{epoch+1}/{epoch_num}] Loss: {epoch_losses[-1]:.6f}\")"
   ]
  },
  {
   "cell_type": "code",
   "execution_count": 21,
   "id": "2fc5ff70",
   "metadata": {},
   "outputs": [
    {
     "name": "stdout",
     "output_type": "stream",
     "text": [
      "Total Test Loss: 0.19986195862293243\n",
      "All Outputs Shape: (37268,)\n",
      "All Truths Shape: (37268,)\n"
     ]
    }
   ],
   "source": [
    "# Inference\n",
    "model.eval()\n",
    "\n",
    "test_loss = 0.0\n",
    "test_losses = []\n",
    "outputs = []\n",
    "truths = []\n",
    "\n",
    "for features, targets in test_loader:\n",
    "\n",
    "    features = features.to(device)\n",
    "    targets = targets.to(device).unsqueeze(3)\n",
    "    output = model(features).squeeze(2)\n",
    "  \n",
    "    outputs.append(output.cpu().flatten())\n",
    "    truths.append(targets.cpu().flatten())\n",
    "\n",
    "    #print(f\"Target Shape: {targets.shape}\")\n",
    "    #print(f\"Output Shape: {outputs.shape}\")\n",
    "    loss = criterion(output, targets)\n",
    "    \n",
    "    test_losses.append(loss.item())\n",
    "\n",
    "    test_loss += loss.item()\n",
    "\n",
    "print(f\"Total Test Loss: {test_loss}\")\n",
    "\n",
    "all_outputs = torch.cat(outputs).detach().numpy()\n",
    "all_truths = torch.cat(truths).detach().numpy()\n",
    "\n",
    "print(f\"All Outputs Shape: {all_outputs.shape}\")\n",
    "print(f\"All Truths Shape: {all_truths.shape}\")"
   ]
  },
  {
   "cell_type": "code",
   "execution_count": 26,
   "id": "6a3732a4",
   "metadata": {},
   "outputs": [
    {
     "data": {
      "text/plain": [
       "[<matplotlib.lines.Line2D at 0x262bda6d700>]"
      ]
     },
     "execution_count": 26,
     "metadata": {},
     "output_type": "execute_result"
    },
    {
     "data": {
      "image/png": "[encoded data removed]",
      "text/plain": [
       "<Figure size 640x480 with 1 Axes>"
      ]
     },
     "metadata": {},
     "output_type": "display_data"
    }
   ],
   "source": [
    "x = np.linspace(start=0, stop=all_outputs.shape[0], num=all_outputs.shape[0])\n",
    "plt.plot(x, all_outputs, alpha=0.3)\n",
    "plt.plot(x, all_truths, alpha=0.3)"
   ]
  },
  {
   "cell_type": "code",
   "execution_count": 27,
   "id": "b256da8f",
   "metadata": {},
   "outputs": [
    {
     "name": "stdout",
     "output_type": "stream",
     "text": [
      "Max Truth Val: 3.8637616634368896\n",
      "Min Truth Val: -0.7724792957305908\n",
      "Within Bound -1 to 1: 36687\n",
      "Outside of -1 to 1: 581\n"
     ]
    }
   ],
   "source": [
    "# Fun Statistic Checker Code \n",
    "\n",
    "count_bound = 0\n",
    "count_no_bound = 0\n",
    "\n",
    "within_bounds_outputs = []\n",
    "within_bounds_truths = []\n",
    "\n",
    "max_truth, min_truth = np.max(all_truths), np.min(all_truths)\n",
    "print(f\"Max Truth Val: {max_truth}\")\n",
    "print(f\"Min Truth Val: {min_truth}\")\n",
    "\n",
    "for idx, pred in enumerate(all_outputs):\n",
    "    if pred >= -1 and pred <= 1 and all_truths[idx] >= -1 and all_truths[idx] <= 1:\n",
    "        count_bound += 1\n",
    "        within_bounds_outputs.append(all_outputs[idx])\n",
    "        within_bounds_truths.append(all_truths[idx])\n",
    "    else:\n",
    "        count_no_bound+=1\n",
    "\n",
    "print(f\"Within Bound -1 to 1: {count_bound}\")\n",
    "print(f\"Outside of -1 to 1: {count_no_bound}\")"
   ]
  },
  {
   "cell_type": "code",
   "execution_count": 30,
   "id": "24bc1caf",
   "metadata": {},
   "outputs": [
    {
     "name": "stderr",
     "output_type": "stream",
     "text": [
      "C:\\Users\\lordw\\AppData\\Local\\Temp\\ipykernel_69104\\380006448.py:7: UserWarning: No artists with labels found to put in legend.  Note that artists whose label start with an underscore are ignored when legend() is called with no argument.\n",
      "  plt.legend()\n"
     ]
    },
    {
     "data": {
      "text/plain": [
       "<matplotlib.legend.Legend at 0x262bdd60770>"
      ]
     },
     "execution_count": 30,
     "metadata": {},
     "output_type": "execute_result"
    },
    {
     "data": {
      "image/png": "[encoded data removed]",
      "text/plain": [
       "<Figure size 640x480 with 1 Axes>"
      ]
     },
     "metadata": {},
     "output_type": "display_data"
    }
   ],
   "source": [
    "x = np.linspace(start=0, stop=len(within_bounds_outputs) - 1, num=len(within_bounds_outputs))\n",
    "\n",
    "plt.scatter(x, within_bounds_outputs, alpha=0.1)\n",
    "#plt.scatter(x, all_truths, alpha=0.05)\n",
    "plt.scatter(x, within_bounds_truths, alpha=0.1)\n",
    "\n",
    "plt.legend()"
   ]
  },
  {
   "cell_type": "code",
   "execution_count": null,
   "id": "60dd5db9",
   "metadata": {},
   "outputs": [],
   "source": [
    "# Model Save lol forgot this before\n",
    "torch.save(model.state_dict(), \"Models/save/TemporalEdgeCentricGNN_state.pth\")\n",
    "torch.save(model, \"Models/save/TemporalEdgeCentricGNN_full.pth\")"
   ]
  },
  {
   "cell_type": "code",
   "execution_count": null,
   "id": "7cca4e04",
   "metadata": {},
   "outputs": [],
   "source": []
  }
 ],
 "metadata": {
  "kernelspec": {
   "display_name": "venv",
   "language": "python",
   "name": "python3"
  },
  "language_info": {
   "codemirror_mode": {
    "name": "ipython",
    "version": 3
   },
   "file_extension": ".py",
   "mimetype": "text/x-python",
   "name": "python",
   "nbconvert_exporter": "python",
   "pygments_lexer": "ipython3",
   "version": "3.12.10"
  }
 },
 "nbformat": 4,
 "nbformat_minor": 5
}
