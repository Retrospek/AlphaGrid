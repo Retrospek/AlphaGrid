{
 "cells": [
  {
   "cell_type": "markdown",
   "id": "44934130",
   "metadata": {},
   "source": [
    "# **Transformer Math Background**"
   ]
  },
  {
   "cell_type": "code",
   "execution_count": 1,
   "id": "8e756794",
   "metadata": {},
   "outputs": [],
   "source": [
    "import torch\n",
    "import torch.nn as nn\n",
    "import torch.optim as optim\n",
    "import torch.functional as F"
   ]
  }
 ],
 "metadata": {
  "kernelspec": {
   "display_name": "venv",
   "language": "python",
   "name": "python3"
  },
  "language_info": {
   "codemirror_mode": {
    "name": "ipython",
    "version": 3
   },
   "file_extension": ".py",
   "mimetype": "text/x-python",
   "name": "python",
   "nbconvert_exporter": "python",
   "pygments_lexer": "ipython3",
   "version": "3.12.10"
  }
 },
 "nbformat": 4,
 "nbformat_minor": 5
}
