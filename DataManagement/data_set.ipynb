{
 "cells": [
  {
   "cell_type": "markdown",
   "id": "026d7a27",
   "metadata": {},
   "source": [
    "# **Data Pipeline Experimentation**"
   ]
  },
  {
   "cell_type": "code",
   "execution_count": 2,
   "id": "b62abbdb",
   "metadata": {},
   "outputs": [
    {
     "data": {
      "text/plain": [
       "'\\nClaim: Develop some system that when backtracking produces substantial Alpha by exploiting hidden market trends\\n    Method: We will be conducting Sector Research, and we will attempt to generate some level of predicted alpha, or even some trend prediction\\n'"
      ]
     },
     "execution_count": 2,
     "metadata": {},
     "output_type": "execute_result"
    }
   ],
   "source": [
    "import yfinance as yf\n",
    "from datetime import datetime, timedelta\n",
    "\n",
    "import pandas as pd\n",
    "import numpy as np\n",
    "\n",
    "\"\"\"\n",
    "Claim: Develop some system that when backtracking produces substantial Alpha by exploiting hidden market trends\n",
    "    Method: We will be conducting Sector Research, and we will attempt to generate some level of predicted alpha, or even some trend prediction\n",
    "\"\"\""
   ]
  },
  {
   "cell_type": "code",
   "execution_count": 3,
   "id": "fe7b1d02",
   "metadata": {},
   "outputs": [],
   "source": [
    "# Sector Conversion Map\n",
    "sector_mapping = {\n",
    "        'XLK': 'Technology',\n",
    "        'XLF': 'Financials', \n",
    "        'XLE': 'Energy',\n",
    "        'XLV': 'Health Care',\n",
    "        'XLI': 'Industrials',\n",
    "        'XLP': 'Consumer Staples',\n",
    "        'XLY': 'Consumer Discretionary',\n",
    "        'XLU': 'Utilities',\n",
    "        'XLB': 'Materials',\n",
    "        'XLRE': 'Real Estate',\n",
    "        'XLC': 'Communication Services'\n",
    "    }"
   ]
  },
  {
   "cell_type": "code",
   "execution_count": 4,
   "id": "103bf28f",
   "metadata": {},
   "outputs": [
    {
     "name": "stdout",
     "output_type": "stream",
     "text": [
      "Downloading Sector-Based Data...\n"
     ]
    },
    {
     "name": "stderr",
     "output_type": "stream",
     "text": [
      "C:\\Users\\lordw\\AppData\\Local\\Temp\\ipykernel_36952\\3059118914.py:7: FutureWarning: YF.download() has changed argument auto_adjust default to True\n",
      "  sector_data = yf.download(tickers=list(sector_mapping.keys()), start=start_date, end=end_date)\n",
      "[*********************100%***********************]  11 of 11 completed\n"
     ]
    },
    {
     "name": "stdout",
     "output_type": "stream",
     "text": [
      "Downloaded yfinance sector data for =:\n",
      "-> Keys: ['XLK', 'XLF', 'XLE', 'XLV', 'XLI', 'XLP', 'XLY', 'XLU', 'XLB', 'XLRE', 'XLC']\n",
      "-> Values: listdict_values(['Technology', 'Financials', 'Energy', 'Health Care', 'Industrials', 'Consumer Staples', 'Consumer Discretionary', 'Utilities', 'Materials', 'Real Estate', 'Communication Services'])\n",
      "Flattening Column Labels to Remove Tuple-Based Column Structure... & Shifting Date into Column\n",
      "* Done Preprocessing and Organizing Data *\n"
     ]
    },
    {
     "data": {
      "text/html": [
       "<div>\n",
       "<style scoped>\n",
       "    .dataframe tbody tr th:only-of-type {\n",
       "        vertical-align: middle;\n",
       "    }\n",
       "\n",
       "    .dataframe tbody tr th {\n",
       "        vertical-align: top;\n",
       "    }\n",
       "\n",
       "    .dataframe thead th {\n",
       "        text-align: right;\n",
       "    }\n",
       "</style>\n",
       "<table border=\"1\" class=\"dataframe\">\n",
       "  <thead>\n",
       "    <tr style=\"text-align: right;\">\n",
       "      <th></th>\n",
       "      <th>Date</th>\n",
       "      <th>XLB_Close</th>\n",
       "      <th>XLC_Close</th>\n",
       "      <th>XLE_Close</th>\n",
       "      <th>XLF_Close</th>\n",
       "      <th>XLI_Close</th>\n",
       "      <th>XLK_Close</th>\n",
       "      <th>XLP_Close</th>\n",
       "      <th>XLRE_Close</th>\n",
       "      <th>XLU_Close</th>\n",
       "      <th>...</th>\n",
       "      <th>XLC_Volume</th>\n",
       "      <th>XLE_Volume</th>\n",
       "      <th>XLF_Volume</th>\n",
       "      <th>XLI_Volume</th>\n",
       "      <th>XLK_Volume</th>\n",
       "      <th>XLP_Volume</th>\n",
       "      <th>XLRE_Volume</th>\n",
       "      <th>XLU_Volume</th>\n",
       "      <th>XLV_Volume</th>\n",
       "      <th>XLY_Volume</th>\n",
       "    </tr>\n",
       "  </thead>\n",
       "  <tbody>\n",
       "    <tr>\n",
       "      <th>0</th>\n",
       "      <td>2020-07-02</td>\n",
       "      <td>52.095242</td>\n",
       "      <td>52.707317</td>\n",
       "      <td>30.522846</td>\n",
       "      <td>20.982758</td>\n",
       "      <td>63.870701</td>\n",
       "      <td>101.063377</td>\n",
       "      <td>51.755920</td>\n",
       "      <td>30.110479</td>\n",
       "      <td>49.580826</td>\n",
       "      <td>...</td>\n",
       "      <td>2252800</td>\n",
       "      <td>20779200</td>\n",
       "      <td>50841900</td>\n",
       "      <td>8279800</td>\n",
       "      <td>9572300</td>\n",
       "      <td>6857200</td>\n",
       "      <td>2586000</td>\n",
       "      <td>12147600</td>\n",
       "      <td>6502400</td>\n",
       "      <td>3664300</td>\n",
       "    </tr>\n",
       "    <tr>\n",
       "      <th>1</th>\n",
       "      <td>2020-07-06</td>\n",
       "      <td>52.837784</td>\n",
       "      <td>53.767197</td>\n",
       "      <td>30.612759</td>\n",
       "      <td>21.384693</td>\n",
       "      <td>64.787361</td>\n",
       "      <td>102.829834</td>\n",
       "      <td>52.010357</td>\n",
       "      <td>30.144278</td>\n",
       "      <td>48.972847</td>\n",
       "      <td>...</td>\n",
       "      <td>2082200</td>\n",
       "      <td>22542200</td>\n",
       "      <td>60271700</td>\n",
       "      <td>10815400</td>\n",
       "      <td>8023100</td>\n",
       "      <td>10091300</td>\n",
       "      <td>3206300</td>\n",
       "      <td>15387700</td>\n",
       "      <td>6374400</td>\n",
       "      <td>3557900</td>\n",
       "    </tr>\n",
       "    <tr>\n",
       "      <th>2</th>\n",
       "      <td>2020-07-07</td>\n",
       "      <td>52.855888</td>\n",
       "      <td>53.614418</td>\n",
       "      <td>29.640015</td>\n",
       "      <td>20.946224</td>\n",
       "      <td>63.546646</td>\n",
       "      <td>101.754608</td>\n",
       "      <td>52.484138</td>\n",
       "      <td>29.654270</td>\n",
       "      <td>48.775890</td>\n",
       "      <td>...</td>\n",
       "      <td>2392300</td>\n",
       "      <td>20910900</td>\n",
       "      <td>43810900</td>\n",
       "      <td>6111800</td>\n",
       "      <td>7931800</td>\n",
       "      <td>8161000</td>\n",
       "      <td>2668600</td>\n",
       "      <td>11340500</td>\n",
       "      <td>5913200</td>\n",
       "      <td>3446600</td>\n",
       "    </tr>\n",
       "    <tr>\n",
       "      <th>3</th>\n",
       "      <td>2020-07-08</td>\n",
       "      <td>52.104301</td>\n",
       "      <td>54.091835</td>\n",
       "      <td>29.615488</td>\n",
       "      <td>21.165459</td>\n",
       "      <td>63.546646</td>\n",
       "      <td>103.415474</td>\n",
       "      <td>52.352524</td>\n",
       "      <td>29.637369</td>\n",
       "      <td>49.212616</td>\n",
       "      <td>...</td>\n",
       "      <td>3106800</td>\n",
       "      <td>20650900</td>\n",
       "      <td>53046100</td>\n",
       "      <td>8576500</td>\n",
       "      <td>6663500</td>\n",
       "      <td>9328000</td>\n",
       "      <td>11063900</td>\n",
       "      <td>12179700</td>\n",
       "      <td>5624900</td>\n",
       "      <td>2739900</td>\n",
       "    </tr>\n",
       "    <tr>\n",
       "      <th>4</th>\n",
       "      <td>2020-07-09</td>\n",
       "      <td>51.615318</td>\n",
       "      <td>54.158676</td>\n",
       "      <td>28.152287</td>\n",
       "      <td>20.717852</td>\n",
       "      <td>62.166988</td>\n",
       "      <td>103.789886</td>\n",
       "      <td>51.940163</td>\n",
       "      <td>29.535984</td>\n",
       "      <td>48.553246</td>\n",
       "      <td>...</td>\n",
       "      <td>3453700</td>\n",
       "      <td>30543600</td>\n",
       "      <td>71163700</td>\n",
       "      <td>16782900</td>\n",
       "      <td>8883900</td>\n",
       "      <td>7672500</td>\n",
       "      <td>6024700</td>\n",
       "      <td>17875200</td>\n",
       "      <td>10521700</td>\n",
       "      <td>3112400</td>\n",
       "    </tr>\n",
       "  </tbody>\n",
       "</table>\n",
       "<p>5 rows × 56 columns</p>\n",
       "</div>"
      ],
      "text/plain": [
       "        Date  XLB_Close  XLC_Close  XLE_Close  XLF_Close  XLI_Close  \\\n",
       "0 2020-07-02  52.095242  52.707317  30.522846  20.982758  63.870701   \n",
       "1 2020-07-06  52.837784  53.767197  30.612759  21.384693  64.787361   \n",
       "2 2020-07-07  52.855888  53.614418  29.640015  20.946224  63.546646   \n",
       "3 2020-07-08  52.104301  54.091835  29.615488  21.165459  63.546646   \n",
       "4 2020-07-09  51.615318  54.158676  28.152287  20.717852  62.166988   \n",
       "\n",
       "    XLK_Close  XLP_Close  XLRE_Close  XLU_Close  ...  XLC_Volume  XLE_Volume  \\\n",
       "0  101.063377  51.755920   30.110479  49.580826  ...     2252800    20779200   \n",
       "1  102.829834  52.010357   30.144278  48.972847  ...     2082200    22542200   \n",
       "2  101.754608  52.484138   29.654270  48.775890  ...     2392300    20910900   \n",
       "3  103.415474  52.352524   29.637369  49.212616  ...     3106800    20650900   \n",
       "4  103.789886  51.940163   29.535984  48.553246  ...     3453700    30543600   \n",
       "\n",
       "   XLF_Volume  XLI_Volume  XLK_Volume  XLP_Volume  XLRE_Volume  XLU_Volume  \\\n",
       "0    50841900     8279800     9572300     6857200      2586000    12147600   \n",
       "1    60271700    10815400     8023100    10091300      3206300    15387700   \n",
       "2    43810900     6111800     7931800     8161000      2668600    11340500   \n",
       "3    53046100     8576500     6663500     9328000     11063900    12179700   \n",
       "4    71163700    16782900     8883900     7672500      6024700    17875200   \n",
       "\n",
       "   XLV_Volume  XLY_Volume  \n",
       "0     6502400     3664300  \n",
       "1     6374400     3557900  \n",
       "2     5913200     3446600  \n",
       "3     5624900     2739900  \n",
       "4    10521700     3112400  \n",
       "\n",
       "[5 rows x 56 columns]"
      ]
     },
     "execution_count": 4,
     "metadata": {},
     "output_type": "execute_result"
    }
   ],
   "source": [
    "def download_sector_data(sector_mapping) -> pd.DataFrame:\n",
    "\n",
    "    start_date = (datetime.now() - timedelta(days=5 * 365)).strftime('%Y-%m-%d')\n",
    "    end_date = datetime.now().strftime('%Y-%m-%d')\n",
    "\n",
    "    print(f\"Downloading Sector-Based Data...\")\n",
    "    sector_data = yf.download(tickers=list(sector_mapping.keys()), start=start_date, end=end_date)\n",
    "    print(f\"Downloaded yfinance sector data for =:\\n-> Keys: {list(sector_mapping.keys())}\\n-> Values: list{sector_mapping.values()}\")\n",
    "\n",
    "    print(f\"Flattening Column Labels to Remove Tuple-Based Column Structure... & Shifting Date into Column\")\n",
    "    sector_data.columns = [f\"{sector}_{metric}\" for metric, sector in sector_data.columns]\n",
    "    sector_data = sector_data.reset_index()\n",
    "\n",
    "    print(f\"* Done Preprocessing and Organizing Data *\")\n",
    "    return sector_data\n",
    "\n",
    "sector_data = download_sector_data(sector_mapping=sector_mapping)\n",
    "sector_data.head()"
   ]
  },
  {
   "cell_type": "code",
   "execution_count": 5,
   "id": "33426a37",
   "metadata": {},
   "outputs": [
    {
     "data": {
      "text/plain": [
       "Index(['Date', 'XLB_Close', 'XLC_Close', 'XLE_Close', 'XLF_Close', 'XLI_Close',\n",
       "       'XLK_Close', 'XLP_Close', 'XLRE_Close', 'XLU_Close', 'XLV_Close',\n",
       "       'XLY_Close', 'XLB_High', 'XLC_High', 'XLE_High', 'XLF_High', 'XLI_High',\n",
       "       'XLK_High', 'XLP_High', 'XLRE_High', 'XLU_High', 'XLV_High', 'XLY_High',\n",
       "       'XLB_Low', 'XLC_Low', 'XLE_Low', 'XLF_Low', 'XLI_Low', 'XLK_Low',\n",
       "       'XLP_Low', 'XLRE_Low', 'XLU_Low', 'XLV_Low', 'XLY_Low', 'XLB_Open',\n",
       "       'XLC_Open', 'XLE_Open', 'XLF_Open', 'XLI_Open', 'XLK_Open', 'XLP_Open',\n",
       "       'XLRE_Open', 'XLU_Open', 'XLV_Open', 'XLY_Open', 'XLB_Volume',\n",
       "       'XLC_Volume', 'XLE_Volume', 'XLF_Volume', 'XLI_Volume', 'XLK_Volume',\n",
       "       'XLP_Volume', 'XLRE_Volume', 'XLU_Volume', 'XLV_Volume', 'XLY_Volume'],\n",
       "      dtype='object')"
      ]
     },
     "execution_count": 5,
     "metadata": {},
     "output_type": "execute_result"
    }
   ],
   "source": [
    "sector_data.columns"
   ]
  },
  {
   "cell_type": "markdown",
   "id": "ea6362d3",
   "metadata": {},
   "source": [
    "## **Feature Engineering**"
   ]
  },
  {
   "cell_type": "code",
   "execution_count": null,
   "id": "b234ee4c",
   "metadata": {},
   "outputs": [],
   "source": [
    "# Create a list of Different Dataframes\n",
    "def get_sector_data_separated(sector_mapping, original_data, original_columns) -> dict:\n",
    "    sector_separated_data = {}\n",
    "\n",
    "    for sector in sector_mapping.keys():\n",
    "        sector_separated_data[sector] = original_data[[f\"{sector}_{metric[metric.index(\"_\") + 1:]}\" for metric in original_columns if sector in metric]].copy()\n",
    "        sector_data = sector_separated_data[sector] # Dynamic State any change conserved\n",
    "        new_columns = [old[old.index(\"_\") + 1:] for old in sector_data.columns if \"_\" in old]\n",
    "        sector_data.columns = new_columns\n",
    "        sector_data[\"Date\"] = original_data[\"Date\"].values\n",
    "        sector_data[\"Sector\"] = sector\n",
    "        sector_data[\"Return($)\"] = sector_data[\"Close\"] - sector_data[\"Open\"]\n",
    "        sector_data[\"Return(%)\"] = sector_data[\"Return($)\"] / sector_data[\"Open\"]\n",
    "        sector_data[\"Liquidity\"] = sector_data[\"Volume\"] * sector_data[\"Close\"]\n",
    "    return sector_separated_data"
   ]
  },
  {
   "cell_type": "code",
   "execution_count": 38,
   "id": "7267040a",
   "metadata": {},
   "outputs": [
    {
     "name": "stdout",
     "output_type": "stream",
     "text": [
      "Separated Sector Data Keys: ['XLK', 'XLF', 'XLE', 'XLV', 'XLI', 'XLP', 'XLY', 'XLU', 'XLB', 'XLRE', 'XLC']\n"
     ]
    }
   ],
   "source": [
    "sector_separated_data = get_sector_data_separated(sector_mapping=sector_mapping, original_data=sector_data, original_columns=sector_data.columns)\n",
    "print(f\"Separated Sector Data Keys: {list(sector_separated_data.keys())}\")"
   ]
  },
  {
   "cell_type": "markdown",
   "id": "7a4e1626",
   "metadata": {},
   "source": [
    "### Momentum"
   ]
  },
  {
   "cell_type": "code",
   "execution_count": 37,
   "id": "1eb85e97",
   "metadata": {},
   "outputs": [],
   "source": [
    "def calculate_sector_momentums(sector_separated_data, momentums) -> dict:\n",
    "    for sector in sector_separated_data.keys():\n",
    "        sector_data = sector_separated_data[sector] # Not using copy so it remains in a dynamic state\n",
    "\n",
    "        # Calcuting the separate momentums for specific \"sector\"\n",
    "        for momentum in momentums:\n",
    "            sector_data[f\"Opening_Momentum_{momentum}Days\"] = sector_data[\"Open\"] - sector_data[\"Open\"].shift(momentum)\n",
    "            sector_data[f\"Closing_Momentum_{momentum}Days\"] = sector_data[\"Close\"] - sector_data[\"Close\"].shift(momentum)\n",
    "            sector_data[f\"High_Momentum_{momentum}Days\"] = sector_data[\"High\"] - sector_data[\"High\"].shift(momentum)\n",
    "            sector_data[f\"Low_Momentum_{momentum}Days\"] = sector_data[\"Low\"] - sector_data[\"Low\"].shift(momentum)\n",
    "            sector_data[f\"Volume_Momentum_{momentum}Days\"] = sector_data[\"Volume\"] - sector_data[\"Volume\"].shift(momentum)\n",
    "    \n",
    "    return sector_separated_data"
   ]
  },
  {
   "cell_type": "code",
   "execution_count": 46,
   "id": "16cfe419",
   "metadata": {},
   "outputs": [],
   "source": [
    "momentums = [5, 10, 20, 30]\n",
    "sector_separated_data = calculate_sector_momentums(sector_separated_data=sector_separated_data, momentums=momentums)"
   ]
  },
  {
   "cell_type": "markdown",
   "id": "7143d0e0",
   "metadata": {},
   "source": [
    "### Moving Averages"
   ]
  },
  {
   "cell_type": "code",
   "execution_count": 52,
   "id": "f6a148ec",
   "metadata": {},
   "outputs": [],
   "source": [
    "def calcualate_sector_moving_averages(sector_separated_data, moving_averages) -> dict:\n",
    "    for sector in sector_separated_data.keys():\n",
    "        sector_data = sector_separated_data[sector] # Not using copy so it remains in a dynamic state\n",
    "\n",
    "        # Calcuting the separate momentums for specific \"sector\"\n",
    "        for ma in moving_averages:\n",
    "            sector_data[f\"Opening_MovingAverage_{ma}Days\"] = sector_data[\"Open\"].rolling(window=ma).mean()\n",
    "            sector_data[f\"Closing_MovingAverage_{ma}Days\"] = sector_data[\"Close\"].rolling(window=ma).mean()\n",
    "            sector_data[f\"High_MovingAverage_{ma}Days\"] = sector_data[\"High\"].rolling(window=ma).mean()\n",
    "            sector_data[f\"Low_MovingAverage_{ma}Days\"] = sector_data[\"Low\"].rolling(window=ma).mean()\n",
    "            sector_data[f\"Volume_MovingAverage_{ma}Days\"] = sector_data[\"Volume\"].rolling(window=ma).mean()\n",
    "        \n",
    "    return sector_separated_data"
   ]
  },
  {
   "cell_type": "code",
   "execution_count": 53,
   "id": "dc583d81",
   "metadata": {},
   "outputs": [],
   "source": [
    "moving_averages = [5, 10, 20, 30]\n",
    "sector_separated_data = calcualate_sector_moving_averages(sector_separated_data=sector_separated_data, moving_averages=moving_averages)"
   ]
  },
  {
   "cell_type": "markdown",
   "id": "0ce3f4d7",
   "metadata": {},
   "source": [
    "### Relative Strength"
   ]
  },
  {
   "cell_type": "code",
   "execution_count": null,
   "id": "f7f3bf17",
   "metadata": {},
   "outputs": [],
   "source": [
    "def calculate_sector_relative_strengths(sector_separated_data, rsi_periods) -> dict:\n",
    "    main_features = [\"Opening\", \"Closing\", \"High\", \"Low\", \"Volume\"]\n",
    "    for sector in sector_separated_data.keys():\n",
    "        sector_data = sector_separated_data[sector] # Not using copy so it remains in a dynamic state\n",
    "\n",
    "        # Calcuting the separate momentums for specific \"sector\"\n",
    "        for prd in rsi_periods:\n",
    "            for feature in main_features:\n",
    "                sector_data[f\"{feature}_RSI_{prd}Days\"]\n",
    "        \n",
    "    return sector_separated_data"
   ]
  },
  {
   "cell_type": "markdown",
   "id": "f53ecd1a",
   "metadata": {},
   "source": [
    "### Inter-Sector Correlations and Spreads"
   ]
  },
  {
   "cell_type": "markdown",
   "id": "94b92da2",
   "metadata": {},
   "source": [
    "### Volatility"
   ]
  },
  {
   "cell_type": "markdown",
   "id": "ceac708d",
   "metadata": {},
   "source": []
  }
 ],
 "metadata": {
  "kernelspec": {
   "display_name": "venv",
   "language": "python",
   "name": "python3"
  },
  "language_info": {
   "codemirror_mode": {
    "name": "ipython",
    "version": 3
   },
   "file_extension": ".py",
   "mimetype": "text/x-python",
   "name": "python",
   "nbconvert_exporter": "python",
   "pygments_lexer": "ipython3",
   "version": "3.12.10"
  }
 },
 "nbformat": 4,
 "nbformat_minor": 5
}
